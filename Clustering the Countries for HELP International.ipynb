{
 "cells": [
  {
   "cell_type": "markdown",
   "id": "607e4a45",
   "metadata": {},
   "source": [
    "# Clustering the Countries for HELP International"
   ]
  },
  {
   "cell_type": "markdown",
   "id": "812ab1e7",
   "metadata": {},
   "source": [
    "## Objective:"
   ]
  },
  {
   "cell_type": "markdown",
   "id": "44ef98e2",
   "metadata": {},
   "source": [
    "***To categorise the countries using socio-economic and health factors that determine the overall development of the country.***"
   ]
  },
  {
   "cell_type": "markdown",
   "id": "431977e6",
   "metadata": {},
   "source": [
    "## About organization:"
   ]
  },
  {
   "cell_type": "markdown",
   "id": "aaacdcca",
   "metadata": {},
   "source": [
    "***HELP International is an international humanitarian NGO that is committed to fighting poverty and providing the people of backward countries with basic amenities and relief during the time of disasters and natural calamities.***"
   ]
  },
  {
   "cell_type": "markdown",
   "id": "e413faff",
   "metadata": {},
   "source": [
    "## Problem Statement"
   ]
  },
  {
   "cell_type": "markdown",
   "id": "4fa2af9f",
   "metadata": {},
   "source": [
    "***HELP International have been able to raise around $ 10 million. Now the CEO of the NGO needs to decide how to use this money strategically and effectively. So, CEO has to make decision to choose the countries that are in the direst need of aid. Hence, your Job as a Data scientist is to categorise the countries using some socio-economic and health factors that determine the overall development of the country. Then you need to suggest the countries which the CEO needs to focus on the most.***"
   ]
  },
  {
   "cell_type": "code",
   "execution_count": 1,
   "id": "acd4e674",
   "metadata": {},
   "outputs": [
    {
     "name": "stderr",
     "output_type": "stream",
     "text": [
      "C:\\Users\\Omar\\anaconda3\\lib\\site-packages\\scipy\\__init__.py:155: UserWarning: A NumPy version >=1.18.5 and <1.25.0 is required for this version of SciPy (detected version 1.26.0\n",
      "  warnings.warn(f\"A NumPy version >={np_minversion} and <{np_maxversion}\"\n"
     ]
    }
   ],
   "source": [
    "import numpy as np\n",
    "import pandas as pd\n",
    "import matplotlib.pyplot as plt\n",
    "import seaborn as sns\n",
    "from scipy import stats\n",
    "import warnings\n",
    "\n",
    "warnings.filterwarnings('ignore')\n",
    "plt.style.use('ggplot')\n",
    "pd.set_option('display.max_colwidth', 250)"
   ]
  },
  {
   "cell_type": "code",
   "execution_count": 2,
   "id": "2324ace0",
   "metadata": {},
   "outputs": [
    {
     "data": {
      "text/html": [
       "<div>\n",
       "<style scoped>\n",
       "    .dataframe tbody tr th:only-of-type {\n",
       "        vertical-align: middle;\n",
       "    }\n",
       "\n",
       "    .dataframe tbody tr th {\n",
       "        vertical-align: top;\n",
       "    }\n",
       "\n",
       "    .dataframe thead th {\n",
       "        text-align: right;\n",
       "    }\n",
       "</style>\n",
       "<table border=\"1\" class=\"dataframe\">\n",
       "  <thead>\n",
       "    <tr style=\"text-align: right;\">\n",
       "      <th></th>\n",
       "      <th>country</th>\n",
       "      <th>child_mort</th>\n",
       "      <th>exports</th>\n",
       "      <th>health</th>\n",
       "      <th>imports</th>\n",
       "      <th>income</th>\n",
       "      <th>inflation</th>\n",
       "      <th>life_expec</th>\n",
       "      <th>total_fer</th>\n",
       "      <th>gdpp</th>\n",
       "    </tr>\n",
       "  </thead>\n",
       "  <tbody>\n",
       "    <tr>\n",
       "      <th>0</th>\n",
       "      <td>Afghanistan</td>\n",
       "      <td>90.2</td>\n",
       "      <td>10.0</td>\n",
       "      <td>7.58</td>\n",
       "      <td>44.9</td>\n",
       "      <td>1610</td>\n",
       "      <td>9.44</td>\n",
       "      <td>56.2</td>\n",
       "      <td>5.82</td>\n",
       "      <td>553</td>\n",
       "    </tr>\n",
       "    <tr>\n",
       "      <th>1</th>\n",
       "      <td>Albania</td>\n",
       "      <td>16.6</td>\n",
       "      <td>28.0</td>\n",
       "      <td>6.55</td>\n",
       "      <td>48.6</td>\n",
       "      <td>9930</td>\n",
       "      <td>4.49</td>\n",
       "      <td>76.3</td>\n",
       "      <td>1.65</td>\n",
       "      <td>4090</td>\n",
       "    </tr>\n",
       "    <tr>\n",
       "      <th>2</th>\n",
       "      <td>Algeria</td>\n",
       "      <td>27.3</td>\n",
       "      <td>38.4</td>\n",
       "      <td>4.17</td>\n",
       "      <td>31.4</td>\n",
       "      <td>12900</td>\n",
       "      <td>16.10</td>\n",
       "      <td>76.5</td>\n",
       "      <td>2.89</td>\n",
       "      <td>4460</td>\n",
       "    </tr>\n",
       "    <tr>\n",
       "      <th>3</th>\n",
       "      <td>Angola</td>\n",
       "      <td>119.0</td>\n",
       "      <td>62.3</td>\n",
       "      <td>2.85</td>\n",
       "      <td>42.9</td>\n",
       "      <td>5900</td>\n",
       "      <td>22.40</td>\n",
       "      <td>60.1</td>\n",
       "      <td>6.16</td>\n",
       "      <td>3530</td>\n",
       "    </tr>\n",
       "    <tr>\n",
       "      <th>4</th>\n",
       "      <td>Antigua and Barbuda</td>\n",
       "      <td>10.3</td>\n",
       "      <td>45.5</td>\n",
       "      <td>6.03</td>\n",
       "      <td>58.9</td>\n",
       "      <td>19100</td>\n",
       "      <td>1.44</td>\n",
       "      <td>76.8</td>\n",
       "      <td>2.13</td>\n",
       "      <td>12200</td>\n",
       "    </tr>\n",
       "  </tbody>\n",
       "</table>\n",
       "</div>"
      ],
      "text/plain": [
       "               country  child_mort  exports  health  imports  income  \\\n",
       "0          Afghanistan        90.2     10.0    7.58     44.9    1610   \n",
       "1              Albania        16.6     28.0    6.55     48.6    9930   \n",
       "2              Algeria        27.3     38.4    4.17     31.4   12900   \n",
       "3               Angola       119.0     62.3    2.85     42.9    5900   \n",
       "4  Antigua and Barbuda        10.3     45.5    6.03     58.9   19100   \n",
       "\n",
       "   inflation  life_expec  total_fer   gdpp  \n",
       "0       9.44        56.2       5.82    553  \n",
       "1       4.49        76.3       1.65   4090  \n",
       "2      16.10        76.5       2.89   4460  \n",
       "3      22.40        60.1       6.16   3530  \n",
       "4       1.44        76.8       2.13  12200  "
      ]
     },
     "execution_count": 2,
     "metadata": {},
     "output_type": "execute_result"
    }
   ],
   "source": [
    "df = pd.read_csv(\"data/countries/Country-data.csv\")\n",
    "df.head()"
   ]
  },
  {
   "cell_type": "code",
   "execution_count": 3,
   "id": "4816ea4d",
   "metadata": {},
   "outputs": [
    {
     "data": {
      "text/plain": [
       "(167, 10)"
      ]
     },
     "execution_count": 3,
     "metadata": {},
     "output_type": "execute_result"
    }
   ],
   "source": [
    "df.shape"
   ]
  },
  {
   "cell_type": "markdown",
   "id": "8d39848e",
   "metadata": {},
   "source": [
    "## Explain The Features"
   ]
  },
  {
   "cell_type": "code",
   "execution_count": 4,
   "id": "063a0582",
   "metadata": {},
   "outputs": [
    {
     "data": {
      "text/html": [
       "<div>\n",
       "<style scoped>\n",
       "    .dataframe tbody tr th:only-of-type {\n",
       "        vertical-align: middle;\n",
       "    }\n",
       "\n",
       "    .dataframe tbody tr th {\n",
       "        vertical-align: top;\n",
       "    }\n",
       "\n",
       "    .dataframe thead th {\n",
       "        text-align: right;\n",
       "    }\n",
       "</style>\n",
       "<table border=\"1\" class=\"dataframe\">\n",
       "  <thead>\n",
       "    <tr style=\"text-align: right;\">\n",
       "      <th></th>\n",
       "      <th>Column Name</th>\n",
       "      <th>Description</th>\n",
       "    </tr>\n",
       "  </thead>\n",
       "  <tbody>\n",
       "    <tr>\n",
       "      <th>0</th>\n",
       "      <td>country</td>\n",
       "      <td>Name of the country</td>\n",
       "    </tr>\n",
       "    <tr>\n",
       "      <th>1</th>\n",
       "      <td>child_mort</td>\n",
       "      <td>Death of children under 5 years of age per 1000 live births</td>\n",
       "    </tr>\n",
       "    <tr>\n",
       "      <th>2</th>\n",
       "      <td>exports</td>\n",
       "      <td>Exports of goods and services per capita. Given as %age of the GDP per capita</td>\n",
       "    </tr>\n",
       "    <tr>\n",
       "      <th>3</th>\n",
       "      <td>health</td>\n",
       "      <td>Total health spending per capita. Given as %age of GDP per capita</td>\n",
       "    </tr>\n",
       "    <tr>\n",
       "      <th>4</th>\n",
       "      <td>imports</td>\n",
       "      <td>Imports of goods and services per capita. Given as %age of the GDP per capita</td>\n",
       "    </tr>\n",
       "    <tr>\n",
       "      <th>5</th>\n",
       "      <td>Income</td>\n",
       "      <td>Net income per person</td>\n",
       "    </tr>\n",
       "    <tr>\n",
       "      <th>6</th>\n",
       "      <td>Inflation</td>\n",
       "      <td>The measurement of the annual growth rate of the Total GDP</td>\n",
       "    </tr>\n",
       "    <tr>\n",
       "      <th>7</th>\n",
       "      <td>life_expec</td>\n",
       "      <td>The average number of years a new born child would live if the current mortality patterns are to remain the same</td>\n",
       "    </tr>\n",
       "    <tr>\n",
       "      <th>8</th>\n",
       "      <td>total_fer</td>\n",
       "      <td>The number of children that would be born to each woman if the current age-fertility rates remain the same.</td>\n",
       "    </tr>\n",
       "    <tr>\n",
       "      <th>9</th>\n",
       "      <td>gdpp</td>\n",
       "      <td>The GDP per capita. Calculated as the Total GDP divided by the total population.</td>\n",
       "    </tr>\n",
       "  </tbody>\n",
       "</table>\n",
       "</div>"
      ],
      "text/plain": [
       "  Column Name  \\\n",
       "0     country   \n",
       "1  child_mort   \n",
       "2     exports   \n",
       "3      health   \n",
       "4     imports   \n",
       "5      Income   \n",
       "6   Inflation   \n",
       "7  life_expec   \n",
       "8   total_fer   \n",
       "9        gdpp   \n",
       "\n",
       "                                                                                                        Description  \n",
       "0                                                                                               Name of the country  \n",
       "1                                                       Death of children under 5 years of age per 1000 live births  \n",
       "2                                     Exports of goods and services per capita. Given as %age of the GDP per capita  \n",
       "3                                                 Total health spending per capita. Given as %age of GDP per capita  \n",
       "4                                     Imports of goods and services per capita. Given as %age of the GDP per capita  \n",
       "5                                                                                             Net income per person  \n",
       "6                                                        The measurement of the annual growth rate of the Total GDP  \n",
       "7  The average number of years a new born child would live if the current mortality patterns are to remain the same  \n",
       "8       The number of children that would be born to each woman if the current age-fertility rates remain the same.  \n",
       "9                                  The GDP per capita. Calculated as the Total GDP divided by the total population.  "
      ]
     },
     "execution_count": 4,
     "metadata": {},
     "output_type": "execute_result"
    }
   ],
   "source": [
    "exp = pd.read_csv(\"data/countries/data-dictionary.csv\")\n",
    "exp"
   ]
  },
  {
   "cell_type": "markdown",
   "id": "602e86a0",
   "metadata": {},
   "source": [
    "## Describe The Data"
   ]
  },
  {
   "cell_type": "code",
   "execution_count": 5,
   "id": "a3c8f133",
   "metadata": {},
   "outputs": [
    {
     "data": {
      "text/html": [
       "<div>\n",
       "<style scoped>\n",
       "    .dataframe tbody tr th:only-of-type {\n",
       "        vertical-align: middle;\n",
       "    }\n",
       "\n",
       "    .dataframe tbody tr th {\n",
       "        vertical-align: top;\n",
       "    }\n",
       "\n",
       "    .dataframe thead th {\n",
       "        text-align: right;\n",
       "    }\n",
       "</style>\n",
       "<table border=\"1\" class=\"dataframe\">\n",
       "  <thead>\n",
       "    <tr style=\"text-align: right;\">\n",
       "      <th></th>\n",
       "      <th>child_mort</th>\n",
       "      <th>exports</th>\n",
       "      <th>health</th>\n",
       "      <th>imports</th>\n",
       "      <th>income</th>\n",
       "      <th>inflation</th>\n",
       "      <th>life_expec</th>\n",
       "      <th>total_fer</th>\n",
       "      <th>gdpp</th>\n",
       "    </tr>\n",
       "  </thead>\n",
       "  <tbody>\n",
       "    <tr>\n",
       "      <th>count</th>\n",
       "      <td>167.000000</td>\n",
       "      <td>167.000000</td>\n",
       "      <td>167.000000</td>\n",
       "      <td>167.000000</td>\n",
       "      <td>167.000000</td>\n",
       "      <td>167.000000</td>\n",
       "      <td>167.000000</td>\n",
       "      <td>167.000000</td>\n",
       "      <td>167.000000</td>\n",
       "    </tr>\n",
       "    <tr>\n",
       "      <th>mean</th>\n",
       "      <td>38.270060</td>\n",
       "      <td>41.108976</td>\n",
       "      <td>6.815689</td>\n",
       "      <td>46.890215</td>\n",
       "      <td>17144.688623</td>\n",
       "      <td>7.781832</td>\n",
       "      <td>70.555689</td>\n",
       "      <td>2.947964</td>\n",
       "      <td>12964.155689</td>\n",
       "    </tr>\n",
       "    <tr>\n",
       "      <th>std</th>\n",
       "      <td>40.328931</td>\n",
       "      <td>27.412010</td>\n",
       "      <td>2.746837</td>\n",
       "      <td>24.209589</td>\n",
       "      <td>19278.067698</td>\n",
       "      <td>10.570704</td>\n",
       "      <td>8.893172</td>\n",
       "      <td>1.513848</td>\n",
       "      <td>18328.704809</td>\n",
       "    </tr>\n",
       "    <tr>\n",
       "      <th>min</th>\n",
       "      <td>2.600000</td>\n",
       "      <td>0.109000</td>\n",
       "      <td>1.810000</td>\n",
       "      <td>0.065900</td>\n",
       "      <td>609.000000</td>\n",
       "      <td>-4.210000</td>\n",
       "      <td>32.100000</td>\n",
       "      <td>1.150000</td>\n",
       "      <td>231.000000</td>\n",
       "    </tr>\n",
       "    <tr>\n",
       "      <th>25%</th>\n",
       "      <td>8.250000</td>\n",
       "      <td>23.800000</td>\n",
       "      <td>4.920000</td>\n",
       "      <td>30.200000</td>\n",
       "      <td>3355.000000</td>\n",
       "      <td>1.810000</td>\n",
       "      <td>65.300000</td>\n",
       "      <td>1.795000</td>\n",
       "      <td>1330.000000</td>\n",
       "    </tr>\n",
       "    <tr>\n",
       "      <th>50%</th>\n",
       "      <td>19.300000</td>\n",
       "      <td>35.000000</td>\n",
       "      <td>6.320000</td>\n",
       "      <td>43.300000</td>\n",
       "      <td>9960.000000</td>\n",
       "      <td>5.390000</td>\n",
       "      <td>73.100000</td>\n",
       "      <td>2.410000</td>\n",
       "      <td>4660.000000</td>\n",
       "    </tr>\n",
       "    <tr>\n",
       "      <th>75%</th>\n",
       "      <td>62.100000</td>\n",
       "      <td>51.350000</td>\n",
       "      <td>8.600000</td>\n",
       "      <td>58.750000</td>\n",
       "      <td>22800.000000</td>\n",
       "      <td>10.750000</td>\n",
       "      <td>76.800000</td>\n",
       "      <td>3.880000</td>\n",
       "      <td>14050.000000</td>\n",
       "    </tr>\n",
       "    <tr>\n",
       "      <th>max</th>\n",
       "      <td>208.000000</td>\n",
       "      <td>200.000000</td>\n",
       "      <td>17.900000</td>\n",
       "      <td>174.000000</td>\n",
       "      <td>125000.000000</td>\n",
       "      <td>104.000000</td>\n",
       "      <td>82.800000</td>\n",
       "      <td>7.490000</td>\n",
       "      <td>105000.000000</td>\n",
       "    </tr>\n",
       "  </tbody>\n",
       "</table>\n",
       "</div>"
      ],
      "text/plain": [
       "       child_mort     exports      health     imports         income  \\\n",
       "count  167.000000  167.000000  167.000000  167.000000     167.000000   \n",
       "mean    38.270060   41.108976    6.815689   46.890215   17144.688623   \n",
       "std     40.328931   27.412010    2.746837   24.209589   19278.067698   \n",
       "min      2.600000    0.109000    1.810000    0.065900     609.000000   \n",
       "25%      8.250000   23.800000    4.920000   30.200000    3355.000000   \n",
       "50%     19.300000   35.000000    6.320000   43.300000    9960.000000   \n",
       "75%     62.100000   51.350000    8.600000   58.750000   22800.000000   \n",
       "max    208.000000  200.000000   17.900000  174.000000  125000.000000   \n",
       "\n",
       "        inflation  life_expec   total_fer           gdpp  \n",
       "count  167.000000  167.000000  167.000000     167.000000  \n",
       "mean     7.781832   70.555689    2.947964   12964.155689  \n",
       "std     10.570704    8.893172    1.513848   18328.704809  \n",
       "min     -4.210000   32.100000    1.150000     231.000000  \n",
       "25%      1.810000   65.300000    1.795000    1330.000000  \n",
       "50%      5.390000   73.100000    2.410000    4660.000000  \n",
       "75%     10.750000   76.800000    3.880000   14050.000000  \n",
       "max    104.000000   82.800000    7.490000  105000.000000  "
      ]
     },
     "execution_count": 5,
     "metadata": {},
     "output_type": "execute_result"
    }
   ],
   "source": [
    "df.describe()"
   ]
  },
  {
   "cell_type": "markdown",
   "id": "c97b850d",
   "metadata": {},
   "source": [
    "* **The minimum of child death rate is 2.6 and the maximum is 208. The average is 38.27**\n",
    "* **The inflation has negative values which means bad economic stability**\n",
    "* **The average number of children per each woman is approximately 3.0 children**\n",
    "* **The highest GDPP is 105000, and the lowest is 231 and the average is 12964**"
   ]
  },
  {
   "cell_type": "code",
   "execution_count": 6,
   "id": "acd9e6e5",
   "metadata": {},
   "outputs": [
    {
     "data": {
      "text/html": [
       "<div>\n",
       "<style scoped>\n",
       "    .dataframe tbody tr th:only-of-type {\n",
       "        vertical-align: middle;\n",
       "    }\n",
       "\n",
       "    .dataframe tbody tr th {\n",
       "        vertical-align: top;\n",
       "    }\n",
       "\n",
       "    .dataframe thead th {\n",
       "        text-align: right;\n",
       "    }\n",
       "</style>\n",
       "<table border=\"1\" class=\"dataframe\">\n",
       "  <thead>\n",
       "    <tr style=\"text-align: right;\">\n",
       "      <th></th>\n",
       "      <th>country</th>\n",
       "      <th>child_mort</th>\n",
       "      <th>exports</th>\n",
       "      <th>health</th>\n",
       "      <th>imports</th>\n",
       "      <th>income</th>\n",
       "      <th>inflation</th>\n",
       "      <th>life_expec</th>\n",
       "      <th>total_fer</th>\n",
       "      <th>gdpp</th>\n",
       "    </tr>\n",
       "  </thead>\n",
       "  <tbody>\n",
       "    <tr>\n",
       "      <th>26</th>\n",
       "      <td>Burundi</td>\n",
       "      <td>93.6</td>\n",
       "      <td>8.92</td>\n",
       "      <td>11.6</td>\n",
       "      <td>39.2</td>\n",
       "      <td>764</td>\n",
       "      <td>12.3</td>\n",
       "      <td>57.7</td>\n",
       "      <td>6.26</td>\n",
       "      <td>231</td>\n",
       "    </tr>\n",
       "  </tbody>\n",
       "</table>\n",
       "</div>"
      ],
      "text/plain": [
       "    country  child_mort  exports  health  imports  income  inflation  \\\n",
       "26  Burundi        93.6     8.92    11.6     39.2     764       12.3   \n",
       "\n",
       "    life_expec  total_fer  gdpp  \n",
       "26        57.7       6.26   231  "
      ]
     },
     "execution_count": 6,
     "metadata": {},
     "output_type": "execute_result"
    }
   ],
   "source": [
    "df[df[\"gdpp\"]==231]"
   ]
  },
  {
   "cell_type": "markdown",
   "id": "21b34b7b",
   "metadata": {},
   "source": [
    "***The country with the lowest gdpp is Burundi (An african country)***"
   ]
  },
  {
   "cell_type": "code",
   "execution_count": 7,
   "id": "956f772b",
   "metadata": {},
   "outputs": [
    {
     "data": {
      "text/html": [
       "<div>\n",
       "<style scoped>\n",
       "    .dataframe tbody tr th:only-of-type {\n",
       "        vertical-align: middle;\n",
       "    }\n",
       "\n",
       "    .dataframe tbody tr th {\n",
       "        vertical-align: top;\n",
       "    }\n",
       "\n",
       "    .dataframe thead th {\n",
       "        text-align: right;\n",
       "    }\n",
       "</style>\n",
       "<table border=\"1\" class=\"dataframe\">\n",
       "  <thead>\n",
       "    <tr style=\"text-align: right;\">\n",
       "      <th></th>\n",
       "      <th>country</th>\n",
       "      <th>child_mort</th>\n",
       "      <th>exports</th>\n",
       "      <th>health</th>\n",
       "      <th>imports</th>\n",
       "      <th>income</th>\n",
       "      <th>inflation</th>\n",
       "      <th>life_expec</th>\n",
       "      <th>total_fer</th>\n",
       "      <th>gdpp</th>\n",
       "    </tr>\n",
       "  </thead>\n",
       "  <tbody>\n",
       "    <tr>\n",
       "      <th>91</th>\n",
       "      <td>Luxembourg</td>\n",
       "      <td>2.8</td>\n",
       "      <td>175.0</td>\n",
       "      <td>7.77</td>\n",
       "      <td>142.0</td>\n",
       "      <td>91700</td>\n",
       "      <td>3.62</td>\n",
       "      <td>81.3</td>\n",
       "      <td>1.63</td>\n",
       "      <td>105000</td>\n",
       "    </tr>\n",
       "  </tbody>\n",
       "</table>\n",
       "</div>"
      ],
      "text/plain": [
       "       country  child_mort  exports  health  imports  income  inflation  \\\n",
       "91  Luxembourg         2.8    175.0    7.77    142.0   91700       3.62   \n",
       "\n",
       "    life_expec  total_fer    gdpp  \n",
       "91        81.3       1.63  105000  "
      ]
     },
     "execution_count": 7,
     "metadata": {},
     "output_type": "execute_result"
    }
   ],
   "source": [
    "df[df[\"gdpp\"]==105000]"
   ]
  },
  {
   "cell_type": "markdown",
   "id": "13bb86b4",
   "metadata": {},
   "source": [
    "***The country with the lowest gdpp is Luxembourg (An European country)***"
   ]
  },
  {
   "cell_type": "code",
   "execution_count": 8,
   "id": "62ac0bef",
   "metadata": {},
   "outputs": [
    {
     "data": {
      "text/html": [
       "<div>\n",
       "<style scoped>\n",
       "    .dataframe tbody tr th:only-of-type {\n",
       "        vertical-align: middle;\n",
       "    }\n",
       "\n",
       "    .dataframe tbody tr th {\n",
       "        vertical-align: top;\n",
       "    }\n",
       "\n",
       "    .dataframe thead th {\n",
       "        text-align: right;\n",
       "    }\n",
       "</style>\n",
       "<table border=\"1\" class=\"dataframe\">\n",
       "  <thead>\n",
       "    <tr style=\"text-align: right;\">\n",
       "      <th></th>\n",
       "      <th>country</th>\n",
       "      <th>child_mort</th>\n",
       "      <th>exports</th>\n",
       "      <th>health</th>\n",
       "      <th>imports</th>\n",
       "      <th>income</th>\n",
       "      <th>inflation</th>\n",
       "      <th>life_expec</th>\n",
       "      <th>total_fer</th>\n",
       "      <th>gdpp</th>\n",
       "    </tr>\n",
       "  </thead>\n",
       "  <tbody>\n",
       "    <tr>\n",
       "      <th>33</th>\n",
       "      <td>Chile</td>\n",
       "      <td>8.7</td>\n",
       "      <td>37.7</td>\n",
       "      <td>7.96</td>\n",
       "      <td>31.3</td>\n",
       "      <td>19400</td>\n",
       "      <td>8.96</td>\n",
       "      <td>79.1</td>\n",
       "      <td>1.88</td>\n",
       "      <td>12900</td>\n",
       "    </tr>\n",
       "    <tr>\n",
       "      <th>121</th>\n",
       "      <td>Poland</td>\n",
       "      <td>6.0</td>\n",
       "      <td>40.1</td>\n",
       "      <td>7.46</td>\n",
       "      <td>42.1</td>\n",
       "      <td>21800</td>\n",
       "      <td>1.66</td>\n",
       "      <td>76.3</td>\n",
       "      <td>1.41</td>\n",
       "      <td>12600</td>\n",
       "    </tr>\n",
       "  </tbody>\n",
       "</table>\n",
       "</div>"
      ],
      "text/plain": [
       "    country  child_mort  exports  health  imports  income  inflation  \\\n",
       "33    Chile         8.7     37.7    7.96     31.3   19400       8.96   \n",
       "121  Poland         6.0     40.1    7.46     42.1   21800       1.66   \n",
       "\n",
       "     life_expec  total_fer   gdpp  \n",
       "33         79.1       1.88  12900  \n",
       "121        76.3       1.41  12600  "
      ]
     },
     "execution_count": 8,
     "metadata": {},
     "output_type": "execute_result"
    }
   ],
   "source": [
    "df[(df[\"gdpp\"]<13000) & (df[\"gdpp\"]>12500)]"
   ]
  },
  {
   "cell_type": "markdown",
   "id": "6d4b93b4",
   "metadata": {},
   "source": [
    "***The countries with the average gdpp are countries like Chile and Poland***"
   ]
  },
  {
   "cell_type": "code",
   "execution_count": 9,
   "id": "c467529d",
   "metadata": {},
   "outputs": [
    {
     "data": {
      "text/html": [
       "<div>\n",
       "<style scoped>\n",
       "    .dataframe tbody tr th:only-of-type {\n",
       "        vertical-align: middle;\n",
       "    }\n",
       "\n",
       "    .dataframe tbody tr th {\n",
       "        vertical-align: top;\n",
       "    }\n",
       "\n",
       "    .dataframe thead th {\n",
       "        text-align: right;\n",
       "    }\n",
       "</style>\n",
       "<table border=\"1\" class=\"dataframe\">\n",
       "  <thead>\n",
       "    <tr style=\"text-align: right;\">\n",
       "      <th></th>\n",
       "      <th>country</th>\n",
       "      <th>child_mort</th>\n",
       "      <th>exports</th>\n",
       "      <th>health</th>\n",
       "      <th>imports</th>\n",
       "      <th>income</th>\n",
       "      <th>inflation</th>\n",
       "      <th>life_expec</th>\n",
       "      <th>total_fer</th>\n",
       "      <th>gdpp</th>\n",
       "    </tr>\n",
       "  </thead>\n",
       "  <tbody>\n",
       "    <tr>\n",
       "      <th>4</th>\n",
       "      <td>Antigua and Barbuda</td>\n",
       "      <td>10.3</td>\n",
       "      <td>45.5</td>\n",
       "      <td>6.03</td>\n",
       "      <td>58.9</td>\n",
       "      <td>19100</td>\n",
       "      <td>1.440</td>\n",
       "      <td>76.8</td>\n",
       "      <td>2.13</td>\n",
       "      <td>12200</td>\n",
       "    </tr>\n",
       "    <tr>\n",
       "      <th>7</th>\n",
       "      <td>Australia</td>\n",
       "      <td>4.8</td>\n",
       "      <td>19.8</td>\n",
       "      <td>8.73</td>\n",
       "      <td>20.9</td>\n",
       "      <td>41400</td>\n",
       "      <td>1.160</td>\n",
       "      <td>82.0</td>\n",
       "      <td>1.93</td>\n",
       "      <td>51900</td>\n",
       "    </tr>\n",
       "    <tr>\n",
       "      <th>8</th>\n",
       "      <td>Austria</td>\n",
       "      <td>4.3</td>\n",
       "      <td>51.3</td>\n",
       "      <td>11.00</td>\n",
       "      <td>47.8</td>\n",
       "      <td>43200</td>\n",
       "      <td>0.873</td>\n",
       "      <td>80.5</td>\n",
       "      <td>1.44</td>\n",
       "      <td>46900</td>\n",
       "    </tr>\n",
       "    <tr>\n",
       "      <th>13</th>\n",
       "      <td>Barbados</td>\n",
       "      <td>14.2</td>\n",
       "      <td>39.5</td>\n",
       "      <td>7.97</td>\n",
       "      <td>48.7</td>\n",
       "      <td>15300</td>\n",
       "      <td>0.321</td>\n",
       "      <td>76.7</td>\n",
       "      <td>1.78</td>\n",
       "      <td>16000</td>\n",
       "    </tr>\n",
       "    <tr>\n",
       "      <th>15</th>\n",
       "      <td>Belgium</td>\n",
       "      <td>4.5</td>\n",
       "      <td>76.4</td>\n",
       "      <td>10.70</td>\n",
       "      <td>74.7</td>\n",
       "      <td>41100</td>\n",
       "      <td>1.880</td>\n",
       "      <td>80.0</td>\n",
       "      <td>1.86</td>\n",
       "      <td>44400</td>\n",
       "    </tr>\n",
       "  </tbody>\n",
       "</table>\n",
       "</div>"
      ],
      "text/plain": [
       "                country  child_mort  exports  health  imports  income  \\\n",
       "4   Antigua and Barbuda        10.3     45.5    6.03     58.9   19100   \n",
       "7             Australia         4.8     19.8    8.73     20.9   41400   \n",
       "8               Austria         4.3     51.3   11.00     47.8   43200   \n",
       "13             Barbados        14.2     39.5    7.97     48.7   15300   \n",
       "15              Belgium         4.5     76.4   10.70     74.7   41100   \n",
       "\n",
       "    inflation  life_expec  total_fer   gdpp  \n",
       "4       1.440        76.8       2.13  12200  \n",
       "7       1.160        82.0       1.93  51900  \n",
       "8       0.873        80.5       1.44  46900  \n",
       "13      0.321        76.7       1.78  16000  \n",
       "15      1.880        80.0       1.86  44400  "
      ]
     },
     "execution_count": 9,
     "metadata": {},
     "output_type": "execute_result"
    }
   ],
   "source": [
    "df[(df[\"inflation\"]>=0) & (df[\"inflation\"]<=3)].head()"
   ]
  },
  {
   "cell_type": "markdown",
   "id": "4f019475",
   "metadata": {},
   "source": [
    "***Central banks and economists often target a specific inflation rate to maintain price stability while promoting economic growth. While opinions on what constitutes a \"good\" inflation rate can vary, many central banks aim for an inflation target around 2% annually***"
   ]
  },
  {
   "cell_type": "code",
   "execution_count": 10,
   "id": "b22fc2e7",
   "metadata": {},
   "outputs": [
    {
     "name": "stdout",
     "output_type": "stream",
     "text": [
      "<class 'pandas.core.frame.DataFrame'>\n",
      "RangeIndex: 167 entries, 0 to 166\n",
      "Data columns (total 10 columns):\n",
      " #   Column      Non-Null Count  Dtype  \n",
      "---  ------      --------------  -----  \n",
      " 0   country     167 non-null    object \n",
      " 1   child_mort  167 non-null    float64\n",
      " 2   exports     167 non-null    float64\n",
      " 3   health      167 non-null    float64\n",
      " 4   imports     167 non-null    float64\n",
      " 5   income      167 non-null    int64  \n",
      " 6   inflation   167 non-null    float64\n",
      " 7   life_expec  167 non-null    float64\n",
      " 8   total_fer   167 non-null    float64\n",
      " 9   gdpp        167 non-null    int64  \n",
      "dtypes: float64(7), int64(2), object(1)\n",
      "memory usage: 13.2+ KB\n"
     ]
    }
   ],
   "source": [
    "df.info()"
   ]
  },
  {
   "cell_type": "code",
   "execution_count": 11,
   "id": "15903721",
   "metadata": {},
   "outputs": [
    {
     "data": {
      "text/html": [
       "<div>\n",
       "<style scoped>\n",
       "    .dataframe tbody tr th:only-of-type {\n",
       "        vertical-align: middle;\n",
       "    }\n",
       "\n",
       "    .dataframe tbody tr th {\n",
       "        vertical-align: top;\n",
       "    }\n",
       "\n",
       "    .dataframe thead th {\n",
       "        text-align: right;\n",
       "    }\n",
       "</style>\n",
       "<table border=\"1\" class=\"dataframe\">\n",
       "  <thead>\n",
       "    <tr style=\"text-align: right;\">\n",
       "      <th></th>\n",
       "      <th>country</th>\n",
       "      <th>child_mort</th>\n",
       "      <th>exports</th>\n",
       "      <th>health</th>\n",
       "      <th>imports</th>\n",
       "      <th>income</th>\n",
       "      <th>inflation</th>\n",
       "      <th>life_expec</th>\n",
       "      <th>total_fer</th>\n",
       "      <th>gdpp</th>\n",
       "    </tr>\n",
       "  </thead>\n",
       "  <tbody>\n",
       "  </tbody>\n",
       "</table>\n",
       "</div>"
      ],
      "text/plain": [
       "Empty DataFrame\n",
       "Columns: [country, child_mort, exports, health, imports, income, inflation, life_expec, total_fer, gdpp]\n",
       "Index: []"
      ]
     },
     "execution_count": 11,
     "metadata": {},
     "output_type": "execute_result"
    }
   ],
   "source": [
    "df[df.duplicated()]"
   ]
  },
  {
   "cell_type": "markdown",
   "id": "f7f575eb",
   "metadata": {},
   "source": [
    "## Columns Renaming"
   ]
  },
  {
   "cell_type": "code",
   "execution_count": 12,
   "id": "8cd63358",
   "metadata": {},
   "outputs": [
    {
     "data": {
      "text/html": [
       "<div>\n",
       "<style scoped>\n",
       "    .dataframe tbody tr th:only-of-type {\n",
       "        vertical-align: middle;\n",
       "    }\n",
       "\n",
       "    .dataframe tbody tr th {\n",
       "        vertical-align: top;\n",
       "    }\n",
       "\n",
       "    .dataframe thead th {\n",
       "        text-align: right;\n",
       "    }\n",
       "</style>\n",
       "<table border=\"1\" class=\"dataframe\">\n",
       "  <thead>\n",
       "    <tr style=\"text-align: right;\">\n",
       "      <th></th>\n",
       "      <th>country</th>\n",
       "      <th>child_mort</th>\n",
       "      <th>exports</th>\n",
       "      <th>health</th>\n",
       "      <th>imports</th>\n",
       "      <th>income</th>\n",
       "      <th>inflation</th>\n",
       "      <th>life_expec</th>\n",
       "      <th>children_per_woman</th>\n",
       "      <th>gdpp</th>\n",
       "    </tr>\n",
       "  </thead>\n",
       "  <tbody>\n",
       "    <tr>\n",
       "      <th>0</th>\n",
       "      <td>Afghanistan</td>\n",
       "      <td>90.2</td>\n",
       "      <td>10.0</td>\n",
       "      <td>7.58</td>\n",
       "      <td>44.9</td>\n",
       "      <td>1610</td>\n",
       "      <td>9.44</td>\n",
       "      <td>56.2</td>\n",
       "      <td>5.82</td>\n",
       "      <td>553</td>\n",
       "    </tr>\n",
       "    <tr>\n",
       "      <th>1</th>\n",
       "      <td>Albania</td>\n",
       "      <td>16.6</td>\n",
       "      <td>28.0</td>\n",
       "      <td>6.55</td>\n",
       "      <td>48.6</td>\n",
       "      <td>9930</td>\n",
       "      <td>4.49</td>\n",
       "      <td>76.3</td>\n",
       "      <td>1.65</td>\n",
       "      <td>4090</td>\n",
       "    </tr>\n",
       "    <tr>\n",
       "      <th>2</th>\n",
       "      <td>Algeria</td>\n",
       "      <td>27.3</td>\n",
       "      <td>38.4</td>\n",
       "      <td>4.17</td>\n",
       "      <td>31.4</td>\n",
       "      <td>12900</td>\n",
       "      <td>16.10</td>\n",
       "      <td>76.5</td>\n",
       "      <td>2.89</td>\n",
       "      <td>4460</td>\n",
       "    </tr>\n",
       "    <tr>\n",
       "      <th>3</th>\n",
       "      <td>Angola</td>\n",
       "      <td>119.0</td>\n",
       "      <td>62.3</td>\n",
       "      <td>2.85</td>\n",
       "      <td>42.9</td>\n",
       "      <td>5900</td>\n",
       "      <td>22.40</td>\n",
       "      <td>60.1</td>\n",
       "      <td>6.16</td>\n",
       "      <td>3530</td>\n",
       "    </tr>\n",
       "    <tr>\n",
       "      <th>4</th>\n",
       "      <td>Antigua and Barbuda</td>\n",
       "      <td>10.3</td>\n",
       "      <td>45.5</td>\n",
       "      <td>6.03</td>\n",
       "      <td>58.9</td>\n",
       "      <td>19100</td>\n",
       "      <td>1.44</td>\n",
       "      <td>76.8</td>\n",
       "      <td>2.13</td>\n",
       "      <td>12200</td>\n",
       "    </tr>\n",
       "  </tbody>\n",
       "</table>\n",
       "</div>"
      ],
      "text/plain": [
       "               country  child_mort  exports  health  imports  income  \\\n",
       "0          Afghanistan        90.2     10.0    7.58     44.9    1610   \n",
       "1              Albania        16.6     28.0    6.55     48.6    9930   \n",
       "2              Algeria        27.3     38.4    4.17     31.4   12900   \n",
       "3               Angola       119.0     62.3    2.85     42.9    5900   \n",
       "4  Antigua and Barbuda        10.3     45.5    6.03     58.9   19100   \n",
       "\n",
       "   inflation  life_expec  children_per_woman   gdpp  \n",
       "0       9.44        56.2                5.82    553  \n",
       "1       4.49        76.3                1.65   4090  \n",
       "2      16.10        76.5                2.89   4460  \n",
       "3      22.40        60.1                6.16   3530  \n",
       "4       1.44        76.8                2.13  12200  "
      ]
     },
     "execution_count": 12,
     "metadata": {},
     "output_type": "execute_result"
    }
   ],
   "source": [
    "df = df.rename(columns={\"total_fer\":\"children_per_woman\"})\n",
    "df.head()"
   ]
  },
  {
   "cell_type": "markdown",
   "id": "0ec97c78",
   "metadata": {},
   "source": [
    "# First, Financial aid (What countries deserve financial aid the most ?)"
   ]
  },
  {
   "cell_type": "code",
   "execution_count": 13,
   "id": "5010b734",
   "metadata": {},
   "outputs": [
    {
     "data": {
      "text/html": [
       "<div>\n",
       "<style scoped>\n",
       "    .dataframe tbody tr th:only-of-type {\n",
       "        vertical-align: middle;\n",
       "    }\n",
       "\n",
       "    .dataframe tbody tr th {\n",
       "        vertical-align: top;\n",
       "    }\n",
       "\n",
       "    .dataframe thead th {\n",
       "        text-align: right;\n",
       "    }\n",
       "</style>\n",
       "<table border=\"1\" class=\"dataframe\">\n",
       "  <thead>\n",
       "    <tr style=\"text-align: right;\">\n",
       "      <th></th>\n",
       "      <th>child_mort</th>\n",
       "      <th>life_expec</th>\n",
       "      <th>income</th>\n",
       "      <th>gdpp</th>\n",
       "    </tr>\n",
       "  </thead>\n",
       "  <tbody>\n",
       "    <tr>\n",
       "      <th>0</th>\n",
       "      <td>90.2</td>\n",
       "      <td>56.2</td>\n",
       "      <td>1610</td>\n",
       "      <td>553</td>\n",
       "    </tr>\n",
       "    <tr>\n",
       "      <th>1</th>\n",
       "      <td>16.6</td>\n",
       "      <td>76.3</td>\n",
       "      <td>9930</td>\n",
       "      <td>4090</td>\n",
       "    </tr>\n",
       "    <tr>\n",
       "      <th>2</th>\n",
       "      <td>27.3</td>\n",
       "      <td>76.5</td>\n",
       "      <td>12900</td>\n",
       "      <td>4460</td>\n",
       "    </tr>\n",
       "    <tr>\n",
       "      <th>3</th>\n",
       "      <td>119.0</td>\n",
       "      <td>60.1</td>\n",
       "      <td>5900</td>\n",
       "      <td>3530</td>\n",
       "    </tr>\n",
       "    <tr>\n",
       "      <th>4</th>\n",
       "      <td>10.3</td>\n",
       "      <td>76.8</td>\n",
       "      <td>19100</td>\n",
       "      <td>12200</td>\n",
       "    </tr>\n",
       "  </tbody>\n",
       "</table>\n",
       "</div>"
      ],
      "text/plain": [
       "   child_mort  life_expec  income   gdpp\n",
       "0        90.2        56.2    1610    553\n",
       "1        16.6        76.3    9930   4090\n",
       "2        27.3        76.5   12900   4460\n",
       "3       119.0        60.1    5900   3530\n",
       "4        10.3        76.8   19100  12200"
      ]
     },
     "execution_count": 13,
     "metadata": {},
     "output_type": "execute_result"
    }
   ],
   "source": [
    "X = df[[\"child_mort\", \"life_expec\", \"income\", \"gdpp\"]]\n",
    "X.head()"
   ]
  },
  {
   "cell_type": "markdown",
   "id": "eafef528",
   "metadata": {},
   "source": [
    "## Data Visualization - Features Understanding"
   ]
  },
  {
   "cell_type": "code",
   "execution_count": 14,
   "id": "e304f5f8",
   "metadata": {},
   "outputs": [],
   "source": [
    "def draw_hist():\n",
    "    fig = plt.figure(figsize=(10,6))\n",
    "    for i in range(len(X.columns)):\n",
    "        plt.subplot(2,2,i+1)\n",
    "        sns.histplot(X[X.columns[i]], bins='auto')\n",
    "        plt.tight_layout()\n",
    "    plt.show()\n",
    "    \n",
    "def draw_box():\n",
    "    fig = plt.figure(figsize=(10,6))\n",
    "    for i in range(len(X.columns)):\n",
    "        plt.subplot(2,2,i+1)\n",
    "        sns.boxplot(X[X.columns[i]])\n",
    "        plt.tight_layout()\n",
    "    plt.show()\n",
    "    \n",
    "def remove_outliers():\n",
    "    for i in X.columns:\n",
    "        Q3 = np.percentile(X[i], 75)\n",
    "        Q1= np.percentile(X[i], 25)\n",
    "        IQR = Q3 - Q1\n",
    "        Max_Val = Q3 + (1.5*IQR)\n",
    "        Min_Val = Q1 - (1.5*IQR)\n",
    "        X.drop(X[X[i] > Max_Val].index, inplace=True)\n",
    "        X.drop(X[X[i] < Min_Val].index, inplace=True)\n",
    "    \n",
    "def impute_outliers_with_median():\n",
    "    for i in X.columns:\n",
    "        Q3 = np.percentile(X[i], 75)\n",
    "        Q1= np.percentile(X[i], 25)\n",
    "        IQR = Q3 - Q1\n",
    "        Max_Val = Q3 + (1.5*IQR)\n",
    "        Min_Val = Q1 - (1.5*IQR)\n",
    "        X.loc[X[i] > Max_Val, i] = X[i].median()\n",
    "        X.loc[X[i] < Min_Val, i] = X[i].median()\n"
   ]
  },
  {
   "cell_type": "code",
   "execution_count": 15,
   "id": "3f325e8b",
   "metadata": {},
   "outputs": [
    {
     "data": {
      "image/png": "[encoded data removed]",
      "text/plain": [
       "<Figure size 1000x600 with 4 Axes>"
      ]
     },
     "metadata": {},
     "output_type": "display_data"
    }
   ],
   "source": [
    "draw_hist()"
   ]
  },
  {
   "cell_type": "code",
   "execution_count": 16,
   "id": "368a6861",
   "metadata": {},
   "outputs": [
    {
     "data": {
      "image/png": "[encoded data removed]",
      "text/plain": [
       "<Figure size 1000x600 with 4 Axes>"
      ]
     },
     "metadata": {},
     "output_type": "display_data"
    }
   ],
   "source": [
    "draw_box()"
   ]
  },
  {
   "cell_type": "markdown",
   "id": "e7a4341a",
   "metadata": {},
   "source": [
    "## Handling Outliers"
   ]
  },
  {
   "cell_type": "markdown",
   "id": "7a0cb68d",
   "metadata": {},
   "source": [
    "*We shouldn't remove outliers becuase the nature of this data it is normal to have etreme or different data than usual*"
   ]
  },
  {
   "cell_type": "code",
   "execution_count": 17,
   "id": "48956f9a",
   "metadata": {
    "scrolled": true
   },
   "outputs": [
    {
     "data": {
      "text/plain": [
       "(167, 4)"
      ]
     },
     "execution_count": 17,
     "metadata": {},
     "output_type": "execute_result"
    }
   ],
   "source": [
    "X.shape"
   ]
  },
  {
   "cell_type": "markdown",
   "id": "d944017b",
   "metadata": {},
   "source": [
    "## See correlation between features"
   ]
  },
  {
   "cell_type": "markdown",
   "id": "cd5bf8c9",
   "metadata": {},
   "source": [
    "### Heat Map"
   ]
  },
  {
   "cell_type": "code",
   "execution_count": 18,
   "id": "68cd766d",
   "metadata": {},
   "outputs": [
    {
     "data": {
      "image/png": "[encoded data removed]",
      "text/plain": [
       "<Figure size 640x480 with 2 Axes>"
      ]
     },
     "metadata": {},
     "output_type": "display_data"
    }
   ],
   "source": [
    "correlation = X.corr()\n",
    "sns.heatmap(correlation, annot=True)\n",
    "plt.show()"
   ]
  },
  {
   "cell_type": "markdown",
   "id": "9c59dd75",
   "metadata": {},
   "source": [
    "* ***There is a high correlation between features***\n",
    "* ***There is a high positive correlation between income per person and GDP per capita***\n",
    "* ***There is a high negative correlation between the birth life expectation (life_expec) and rate of children death (child_mort).***\n",
    "* ***There is a negative correlation between rate of death of children under 5 and income per person. This means that in countries that income per person is higher, the children death rate is lower.***\n",
    "* ***There is a negative correlation between rate of death of children under 5 and GDPP. This means that countries with higher GDPP have lower children death rate. And this indicates a better healthcare in countries with higher economical growth.***"
   ]
  },
  {
   "cell_type": "markdown",
   "id": "ee9132e3",
   "metadata": {},
   "source": [
    "### Pairplot"
   ]
  },
  {
   "cell_type": "code",
   "execution_count": 19,
   "id": "9b303aab",
   "metadata": {},
   "outputs": [
    {
     "data": {
      "image/png": "[encoded data removed]",
      "text/plain": [
       "<Figure size 1000x1000 with 20 Axes>"
      ]
     },
     "metadata": {},
     "output_type": "display_data"
    }
   ],
   "source": [
    "sns.pairplot(X)\n",
    "plt.show()"
   ]
  },
  {
   "cell_type": "markdown",
   "id": "9a21a114",
   "metadata": {},
   "source": [
    "### Observations:"
   ]
  },
  {
   "cell_type": "markdown",
   "id": "0f6e7d5a",
   "metadata": {},
   "source": [
    "1. The relation between income and gdpp has positive correlation.\n",
    "2. The relation between life_expec and child_mort is approximately **linear** and have negative correlation.\n",
    "3. The relation between other features are **not linear**."
   ]
  },
  {
   "cell_type": "code",
   "execution_count": 20,
   "id": "69bb644a",
   "metadata": {},
   "outputs": [
    {
     "data": {
      "text/html": [
       "<div>\n",
       "<style scoped>\n",
       "    .dataframe tbody tr th:only-of-type {\n",
       "        vertical-align: middle;\n",
       "    }\n",
       "\n",
       "    .dataframe tbody tr th {\n",
       "        vertical-align: top;\n",
       "    }\n",
       "\n",
       "    .dataframe thead th {\n",
       "        text-align: right;\n",
       "    }\n",
       "</style>\n",
       "<table border=\"1\" class=\"dataframe\">\n",
       "  <thead>\n",
       "    <tr style=\"text-align: right;\">\n",
       "      <th></th>\n",
       "      <th>child_mort</th>\n",
       "      <th>life_expec</th>\n",
       "      <th>income</th>\n",
       "      <th>gdpp</th>\n",
       "    </tr>\n",
       "  </thead>\n",
       "  <tbody>\n",
       "    <tr>\n",
       "      <th>0</th>\n",
       "      <td>90.2</td>\n",
       "      <td>56.2</td>\n",
       "      <td>1610</td>\n",
       "      <td>553</td>\n",
       "    </tr>\n",
       "    <tr>\n",
       "      <th>1</th>\n",
       "      <td>16.6</td>\n",
       "      <td>76.3</td>\n",
       "      <td>9930</td>\n",
       "      <td>4090</td>\n",
       "    </tr>\n",
       "    <tr>\n",
       "      <th>2</th>\n",
       "      <td>27.3</td>\n",
       "      <td>76.5</td>\n",
       "      <td>12900</td>\n",
       "      <td>4460</td>\n",
       "    </tr>\n",
       "    <tr>\n",
       "      <th>3</th>\n",
       "      <td>119.0</td>\n",
       "      <td>60.1</td>\n",
       "      <td>5900</td>\n",
       "      <td>3530</td>\n",
       "    </tr>\n",
       "    <tr>\n",
       "      <th>4</th>\n",
       "      <td>10.3</td>\n",
       "      <td>76.8</td>\n",
       "      <td>19100</td>\n",
       "      <td>12200</td>\n",
       "    </tr>\n",
       "  </tbody>\n",
       "</table>\n",
       "</div>"
      ],
      "text/plain": [
       "   child_mort  life_expec  income   gdpp\n",
       "0        90.2        56.2    1610    553\n",
       "1        16.6        76.3    9930   4090\n",
       "2        27.3        76.5   12900   4460\n",
       "3       119.0        60.1    5900   3530\n",
       "4        10.3        76.8   19100  12200"
      ]
     },
     "execution_count": 20,
     "metadata": {},
     "output_type": "execute_result"
    }
   ],
   "source": [
    "X.head()"
   ]
  },
  {
   "cell_type": "markdown",
   "id": "65371bad",
   "metadata": {},
   "source": [
    "## Choosing The Number Of Clusters - The Elbow Method"
   ]
  },
  {
   "cell_type": "code",
   "execution_count": 21,
   "id": "17821a60",
   "metadata": {},
   "outputs": [
    {
     "data": {
      "image/png": "[encoded data removed]",
      "text/plain": [
       "<Figure size 640x480 with 1 Axes>"
      ]
     },
     "metadata": {},
     "output_type": "display_data"
    }
   ],
   "source": [
    "from sklearn.cluster import KMeans\n",
    "\n",
    "WCSS = []\n",
    "for i in range(2,11):\n",
    "    kmeans = KMeans(n_clusters=i, init='k-means++')\n",
    "    kmeans.fit(X)\n",
    "    WCSS.append(kmeans.inertia_)\n",
    "    \n",
    "plt.plot(range(2,11), WCSS)\n",
    "plt.title(\"The Elbow Method\")\n",
    "plt.xlabel(\"Number Of Clusters\")\n",
    "plt.ylabel(\"WCSS\")\n",
    "plt.show()"
   ]
  },
  {
   "cell_type": "markdown",
   "id": "654837d6",
   "metadata": {},
   "source": [
    "## Make Clusters - The Model"
   ]
  },
  {
   "cell_type": "code",
   "execution_count": 22,
   "id": "fe8d83ae",
   "metadata": {},
   "outputs": [],
   "source": [
    "kmeans = KMeans(n_clusters=4, init='k-means++')\n",
    "y_kmeans = kmeans.fit_predict(X)"
   ]
  },
  {
   "cell_type": "code",
   "execution_count": 23,
   "id": "3bab7592",
   "metadata": {},
   "outputs": [],
   "source": [
    "XV = X.values"
   ]
  },
  {
   "cell_type": "markdown",
   "id": "6dccd6a7",
   "metadata": {},
   "source": [
    "## Visualizing Clusters"
   ]
  },
  {
   "cell_type": "code",
   "execution_count": 24,
   "id": "5d22978a",
   "metadata": {},
   "outputs": [
    {
     "data": {
      "image/png": "[encoded data removed]",
      "text/plain": [
       "<Figure size 640x480 with 1 Axes>"
      ]
     },
     "metadata": {},
     "output_type": "display_data"
    }
   ],
   "source": [
    "sns.scatterplot(XV[y_kmeans==0, 2], XV[y_kmeans==0, 3], s=100, color=\"darkblue\")\n",
    "sns.scatterplot(XV[y_kmeans==1, 2], XV[y_kmeans==1, 3], s=100, color=\"orange\")\n",
    "sns.scatterplot(XV[y_kmeans==2, 2], XV[y_kmeans==2, 3], s=100, color=\"purple\")\n",
    "sns.scatterplot(XV[y_kmeans==3, 2], XV[y_kmeans==3, 3], s=100, color=\"red\")\n",
    "sns.scatterplot(kmeans.cluster_centers_[:,2], kmeans.cluster_centers_[:,3], color=\"black\", s=250)\n",
    "plt.show()"
   ]
  },
  {
   "cell_type": "markdown",
   "id": "4054a816",
   "metadata": {},
   "source": [
    "1. Orange => The poor countries => C1\n",
    "2. Purple => The normal/good countries => C2\n",
    "3. Blue => The very good Countries (rich) => C0\n",
    "4. Red => he rich countries (very rich - extreme) => C3"
   ]
  },
  {
   "cell_type": "markdown",
   "id": "5ea739d5",
   "metadata": {},
   "source": [
    "## Understand The Results"
   ]
  },
  {
   "cell_type": "markdown",
   "id": "f5f67cac",
   "metadata": {},
   "source": [
    "### First Cluster"
   ]
  },
  {
   "cell_type": "code",
   "execution_count": 25,
   "id": "8aacb7ba",
   "metadata": {},
   "outputs": [
    {
     "data": {
      "text/html": [
       "<div>\n",
       "<style scoped>\n",
       "    .dataframe tbody tr th:only-of-type {\n",
       "        vertical-align: middle;\n",
       "    }\n",
       "\n",
       "    .dataframe tbody tr th {\n",
       "        vertical-align: top;\n",
       "    }\n",
       "\n",
       "    .dataframe thead th {\n",
       "        text-align: right;\n",
       "    }\n",
       "</style>\n",
       "<table border=\"1\" class=\"dataframe\">\n",
       "  <thead>\n",
       "    <tr style=\"text-align: right;\">\n",
       "      <th></th>\n",
       "      <th>child_mort</th>\n",
       "      <th>life_expec</th>\n",
       "      <th>income</th>\n",
       "      <th>gdpp</th>\n",
       "    </tr>\n",
       "  </thead>\n",
       "  <tbody>\n",
       "    <tr>\n",
       "      <th>count</th>\n",
       "      <td>108.000000</td>\n",
       "      <td>108.000000</td>\n",
       "      <td>108.000000</td>\n",
       "      <td>108.000000</td>\n",
       "    </tr>\n",
       "    <tr>\n",
       "      <th>mean</th>\n",
       "      <td>54.135185</td>\n",
       "      <td>66.566667</td>\n",
       "      <td>6381.138889</td>\n",
       "      <td>3027.259259</td>\n",
       "    </tr>\n",
       "    <tr>\n",
       "      <th>std</th>\n",
       "      <td>41.160845</td>\n",
       "      <td>8.289392</td>\n",
       "      <td>4755.616179</td>\n",
       "      <td>2499.752000</td>\n",
       "    </tr>\n",
       "    <tr>\n",
       "      <th>min</th>\n",
       "      <td>5.500000</td>\n",
       "      <td>32.100000</td>\n",
       "      <td>609.000000</td>\n",
       "      <td>231.000000</td>\n",
       "    </tr>\n",
       "    <tr>\n",
       "      <th>25%</th>\n",
       "      <td>19.600000</td>\n",
       "      <td>60.650000</td>\n",
       "      <td>2065.000000</td>\n",
       "      <td>856.500000</td>\n",
       "    </tr>\n",
       "    <tr>\n",
       "      <th>50%</th>\n",
       "      <td>41.350000</td>\n",
       "      <td>68.050000</td>\n",
       "      <td>5295.000000</td>\n",
       "      <td>2695.000000</td>\n",
       "    </tr>\n",
       "    <tr>\n",
       "      <th>75%</th>\n",
       "      <td>80.475000</td>\n",
       "      <td>73.325000</td>\n",
       "      <td>9922.500000</td>\n",
       "      <td>4545.000000</td>\n",
       "    </tr>\n",
       "    <tr>\n",
       "      <th>max</th>\n",
       "      <td>208.000000</td>\n",
       "      <td>80.400000</td>\n",
       "      <td>17400.000000</td>\n",
       "      <td>11200.000000</td>\n",
       "    </tr>\n",
       "  </tbody>\n",
       "</table>\n",
       "</div>"
      ],
      "text/plain": [
       "       child_mort  life_expec        income          gdpp\n",
       "count  108.000000  108.000000    108.000000    108.000000\n",
       "mean    54.135185   66.566667   6381.138889   3027.259259\n",
       "std     41.160845    8.289392   4755.616179   2499.752000\n",
       "min      5.500000   32.100000    609.000000    231.000000\n",
       "25%     19.600000   60.650000   2065.000000    856.500000\n",
       "50%     41.350000   68.050000   5295.000000   2695.000000\n",
       "75%     80.475000   73.325000   9922.500000   4545.000000\n",
       "max    208.000000   80.400000  17400.000000  11200.000000"
      ]
     },
     "execution_count": 25,
     "metadata": {},
     "output_type": "execute_result"
    }
   ],
   "source": [
    "X[y_kmeans==1].describe()"
   ]
  },
  {
   "cell_type": "markdown",
   "id": "4918bbbe",
   "metadata": {},
   "source": [
    "* The average gdpp = 3027\n",
    "* The minimum gdpp = 231, which is very low\n",
    "* The maximum gdpp = 11200, which is normal but we can say **\"not bad\"** instead of **\"good\"**\n",
    "* The income data is per year, which are very low\n",
    "* The child_mort is very high, which means bad life quality"
   ]
  },
  {
   "cell_type": "markdown",
   "id": "92cc911f",
   "metadata": {},
   "source": [
    "### See data of first cluster - Poor Countries"
   ]
  },
  {
   "cell_type": "code",
   "execution_count": 27,
   "id": "9fb1c882",
   "metadata": {},
   "outputs": [
    {
     "data": {
      "text/html": [
       "<div>\n",
       "<style scoped>\n",
       "    .dataframe tbody tr th:only-of-type {\n",
       "        vertical-align: middle;\n",
       "    }\n",
       "\n",
       "    .dataframe tbody tr th {\n",
       "        vertical-align: top;\n",
       "    }\n",
       "\n",
       "    .dataframe thead th {\n",
       "        text-align: right;\n",
       "    }\n",
       "</style>\n",
       "<table border=\"1\" class=\"dataframe\">\n",
       "  <thead>\n",
       "    <tr style=\"text-align: right;\">\n",
       "      <th></th>\n",
       "      <th>country</th>\n",
       "      <th>child_mort</th>\n",
       "      <th>exports</th>\n",
       "      <th>health</th>\n",
       "      <th>imports</th>\n",
       "      <th>income</th>\n",
       "      <th>inflation</th>\n",
       "      <th>life_expec</th>\n",
       "      <th>children_per_woman</th>\n",
       "      <th>gdpp</th>\n",
       "    </tr>\n",
       "  </thead>\n",
       "  <tbody>\n",
       "    <tr>\n",
       "      <th>0</th>\n",
       "      <td>Afghanistan</td>\n",
       "      <td>90.2</td>\n",
       "      <td>10.0</td>\n",
       "      <td>7.58</td>\n",
       "      <td>44.9</td>\n",
       "      <td>1610</td>\n",
       "      <td>9.44</td>\n",
       "      <td>56.2</td>\n",
       "      <td>5.82</td>\n",
       "      <td>553</td>\n",
       "    </tr>\n",
       "    <tr>\n",
       "      <th>1</th>\n",
       "      <td>Albania</td>\n",
       "      <td>16.6</td>\n",
       "      <td>28.0</td>\n",
       "      <td>6.55</td>\n",
       "      <td>48.6</td>\n",
       "      <td>9930</td>\n",
       "      <td>4.49</td>\n",
       "      <td>76.3</td>\n",
       "      <td>1.65</td>\n",
       "      <td>4090</td>\n",
       "    </tr>\n",
       "    <tr>\n",
       "      <th>2</th>\n",
       "      <td>Algeria</td>\n",
       "      <td>27.3</td>\n",
       "      <td>38.4</td>\n",
       "      <td>4.17</td>\n",
       "      <td>31.4</td>\n",
       "      <td>12900</td>\n",
       "      <td>16.10</td>\n",
       "      <td>76.5</td>\n",
       "      <td>2.89</td>\n",
       "      <td>4460</td>\n",
       "    </tr>\n",
       "    <tr>\n",
       "      <th>3</th>\n",
       "      <td>Angola</td>\n",
       "      <td>119.0</td>\n",
       "      <td>62.3</td>\n",
       "      <td>2.85</td>\n",
       "      <td>42.9</td>\n",
       "      <td>5900</td>\n",
       "      <td>22.40</td>\n",
       "      <td>60.1</td>\n",
       "      <td>6.16</td>\n",
       "      <td>3530</td>\n",
       "    </tr>\n",
       "    <tr>\n",
       "      <th>6</th>\n",
       "      <td>Armenia</td>\n",
       "      <td>18.1</td>\n",
       "      <td>20.8</td>\n",
       "      <td>4.40</td>\n",
       "      <td>45.3</td>\n",
       "      <td>6700</td>\n",
       "      <td>7.77</td>\n",
       "      <td>73.3</td>\n",
       "      <td>1.69</td>\n",
       "      <td>3220</td>\n",
       "    </tr>\n",
       "  </tbody>\n",
       "</table>\n",
       "</div>"
      ],
      "text/plain": [
       "       country  child_mort  exports  health  imports  income  inflation  \\\n",
       "0  Afghanistan        90.2     10.0    7.58     44.9    1610       9.44   \n",
       "1      Albania        16.6     28.0    6.55     48.6    9930       4.49   \n",
       "2      Algeria        27.3     38.4    4.17     31.4   12900      16.10   \n",
       "3       Angola       119.0     62.3    2.85     42.9    5900      22.40   \n",
       "6      Armenia        18.1     20.8    4.40     45.3    6700       7.77   \n",
       "\n",
       "   life_expec  children_per_woman  gdpp  \n",
       "0        56.2                5.82   553  \n",
       "1        76.3                1.65  4090  \n",
       "2        76.5                2.89  4460  \n",
       "3        60.1                6.16  3530  \n",
       "6        73.3                1.69  3220  "
      ]
     },
     "execution_count": 27,
     "metadata": {},
     "output_type": "execute_result"
    }
   ],
   "source": [
    "data_index = X[y_kmeans==1].index\n",
    "Cluster1 = df.loc[data_index]\n",
    "Cluster1.head()"
   ]
  },
  {
   "cell_type": "markdown",
   "id": "47d8522d",
   "metadata": {},
   "source": [
    "### Second Cluster"
   ]
  },
  {
   "cell_type": "code",
   "execution_count": 28,
   "id": "b9df7950",
   "metadata": {},
   "outputs": [
    {
     "data": {
      "text/html": [
       "<div>\n",
       "<style scoped>\n",
       "    .dataframe tbody tr th:only-of-type {\n",
       "        vertical-align: middle;\n",
       "    }\n",
       "\n",
       "    .dataframe tbody tr th {\n",
       "        vertical-align: top;\n",
       "    }\n",
       "\n",
       "    .dataframe thead th {\n",
       "        text-align: right;\n",
       "    }\n",
       "</style>\n",
       "<table border=\"1\" class=\"dataframe\">\n",
       "  <thead>\n",
       "    <tr style=\"text-align: right;\">\n",
       "      <th></th>\n",
       "      <th>child_mort</th>\n",
       "      <th>life_expec</th>\n",
       "      <th>income</th>\n",
       "      <th>gdpp</th>\n",
       "    </tr>\n",
       "  </thead>\n",
       "  <tbody>\n",
       "    <tr>\n",
       "      <th>count</th>\n",
       "      <td>35.000000</td>\n",
       "      <td>35.000000</td>\n",
       "      <td>35.000000</td>\n",
       "      <td>35.000000</td>\n",
       "    </tr>\n",
       "    <tr>\n",
       "      <th>mean</th>\n",
       "      <td>12.102857</td>\n",
       "      <td>76.062857</td>\n",
       "      <td>25600.000000</td>\n",
       "      <td>17347.714286</td>\n",
       "    </tr>\n",
       "    <tr>\n",
       "      <th>std</th>\n",
       "      <td>17.918861</td>\n",
       "      <td>4.107746</td>\n",
       "      <td>7813.261728</td>\n",
       "      <td>7238.888071</td>\n",
       "    </tr>\n",
       "    <tr>\n",
       "      <th>min</th>\n",
       "      <td>3.200000</td>\n",
       "      <td>60.900000</td>\n",
       "      <td>15300.000000</td>\n",
       "      <td>8230.000000</td>\n",
       "    </tr>\n",
       "    <tr>\n",
       "      <th>25%</th>\n",
       "      <td>5.050000</td>\n",
       "      <td>74.500000</td>\n",
       "      <td>19750.000000</td>\n",
       "      <td>11950.000000</td>\n",
       "    </tr>\n",
       "    <tr>\n",
       "      <th>50%</th>\n",
       "      <td>7.900000</td>\n",
       "      <td>76.100000</td>\n",
       "      <td>22900.000000</td>\n",
       "      <td>14600.000000</td>\n",
       "    </tr>\n",
       "    <tr>\n",
       "      <th>75%</th>\n",
       "      <td>14.000000</td>\n",
       "      <td>79.300000</td>\n",
       "      <td>29600.000000</td>\n",
       "      <td>21600.000000</td>\n",
       "    </tr>\n",
       "    <tr>\n",
       "      <th>max</th>\n",
       "      <td>111.000000</td>\n",
       "      <td>81.900000</td>\n",
       "      <td>45400.000000</td>\n",
       "      <td>33700.000000</td>\n",
       "    </tr>\n",
       "  </tbody>\n",
       "</table>\n",
       "</div>"
      ],
      "text/plain": [
       "       child_mort  life_expec        income          gdpp\n",
       "count   35.000000   35.000000     35.000000     35.000000\n",
       "mean    12.102857   76.062857  25600.000000  17347.714286\n",
       "std     17.918861    4.107746   7813.261728   7238.888071\n",
       "min      3.200000   60.900000  15300.000000   8230.000000\n",
       "25%      5.050000   74.500000  19750.000000  11950.000000\n",
       "50%      7.900000   76.100000  22900.000000  14600.000000\n",
       "75%     14.000000   79.300000  29600.000000  21600.000000\n",
       "max    111.000000   81.900000  45400.000000  33700.000000"
      ]
     },
     "execution_count": 28,
     "metadata": {},
     "output_type": "execute_result"
    }
   ],
   "source": [
    "X[y_kmeans==2].describe()"
   ]
  },
  {
   "cell_type": "code",
   "execution_count": 29,
   "id": "492e4d15",
   "metadata": {},
   "outputs": [
    {
     "data": {
      "text/html": [
       "<div>\n",
       "<style scoped>\n",
       "    .dataframe tbody tr th:only-of-type {\n",
       "        vertical-align: middle;\n",
       "    }\n",
       "\n",
       "    .dataframe tbody tr th {\n",
       "        vertical-align: top;\n",
       "    }\n",
       "\n",
       "    .dataframe thead th {\n",
       "        text-align: right;\n",
       "    }\n",
       "</style>\n",
       "<table border=\"1\" class=\"dataframe\">\n",
       "  <thead>\n",
       "    <tr style=\"text-align: right;\">\n",
       "      <th></th>\n",
       "      <th>country</th>\n",
       "      <th>child_mort</th>\n",
       "      <th>exports</th>\n",
       "      <th>health</th>\n",
       "      <th>imports</th>\n",
       "      <th>income</th>\n",
       "      <th>inflation</th>\n",
       "      <th>life_expec</th>\n",
       "      <th>children_per_woman</th>\n",
       "      <th>gdpp</th>\n",
       "    </tr>\n",
       "  </thead>\n",
       "  <tbody>\n",
       "    <tr>\n",
       "      <th>4</th>\n",
       "      <td>Antigua and Barbuda</td>\n",
       "      <td>10.3</td>\n",
       "      <td>45.5</td>\n",
       "      <td>6.03</td>\n",
       "      <td>58.9</td>\n",
       "      <td>19100</td>\n",
       "      <td>1.440</td>\n",
       "      <td>76.8</td>\n",
       "      <td>2.13</td>\n",
       "      <td>12200</td>\n",
       "    </tr>\n",
       "    <tr>\n",
       "      <th>5</th>\n",
       "      <td>Argentina</td>\n",
       "      <td>14.5</td>\n",
       "      <td>18.9</td>\n",
       "      <td>8.10</td>\n",
       "      <td>16.0</td>\n",
       "      <td>18700</td>\n",
       "      <td>20.900</td>\n",
       "      <td>75.8</td>\n",
       "      <td>2.37</td>\n",
       "      <td>10300</td>\n",
       "    </tr>\n",
       "    <tr>\n",
       "      <th>10</th>\n",
       "      <td>Bahamas</td>\n",
       "      <td>13.8</td>\n",
       "      <td>35.0</td>\n",
       "      <td>7.89</td>\n",
       "      <td>43.7</td>\n",
       "      <td>22900</td>\n",
       "      <td>-0.393</td>\n",
       "      <td>73.8</td>\n",
       "      <td>1.86</td>\n",
       "      <td>28000</td>\n",
       "    </tr>\n",
       "    <tr>\n",
       "      <th>11</th>\n",
       "      <td>Bahrain</td>\n",
       "      <td>8.6</td>\n",
       "      <td>69.5</td>\n",
       "      <td>4.97</td>\n",
       "      <td>50.9</td>\n",
       "      <td>41100</td>\n",
       "      <td>7.440</td>\n",
       "      <td>76.0</td>\n",
       "      <td>2.16</td>\n",
       "      <td>20700</td>\n",
       "    </tr>\n",
       "    <tr>\n",
       "      <th>13</th>\n",
       "      <td>Barbados</td>\n",
       "      <td>14.2</td>\n",
       "      <td>39.5</td>\n",
       "      <td>7.97</td>\n",
       "      <td>48.7</td>\n",
       "      <td>15300</td>\n",
       "      <td>0.321</td>\n",
       "      <td>76.7</td>\n",
       "      <td>1.78</td>\n",
       "      <td>16000</td>\n",
       "    </tr>\n",
       "  </tbody>\n",
       "</table>\n",
       "</div>"
      ],
      "text/plain": [
       "                country  child_mort  exports  health  imports  income  \\\n",
       "4   Antigua and Barbuda        10.3     45.5    6.03     58.9   19100   \n",
       "5             Argentina        14.5     18.9    8.10     16.0   18700   \n",
       "10              Bahamas        13.8     35.0    7.89     43.7   22900   \n",
       "11              Bahrain         8.6     69.5    4.97     50.9   41100   \n",
       "13             Barbados        14.2     39.5    7.97     48.7   15300   \n",
       "\n",
       "    inflation  life_expec  children_per_woman   gdpp  \n",
       "4       1.440        76.8                2.13  12200  \n",
       "5      20.900        75.8                2.37  10300  \n",
       "10     -0.393        73.8                1.86  28000  \n",
       "11      7.440        76.0                2.16  20700  \n",
       "13      0.321        76.7                1.78  16000  "
      ]
     },
     "execution_count": 29,
     "metadata": {},
     "output_type": "execute_result"
    }
   ],
   "source": [
    "data_index = X[y_kmeans==2].index\n",
    "Cluster2 = df.loc[data_index]\n",
    "Cluster2.head()"
   ]
  },
  {
   "cell_type": "markdown",
   "id": "369530fa",
   "metadata": {},
   "source": [
    "### Third Cluster"
   ]
  },
  {
   "cell_type": "code",
   "execution_count": 30,
   "id": "4f69d206",
   "metadata": {},
   "outputs": [
    {
     "data": {
      "text/html": [
       "<div>\n",
       "<style scoped>\n",
       "    .dataframe tbody tr th:only-of-type {\n",
       "        vertical-align: middle;\n",
       "    }\n",
       "\n",
       "    .dataframe tbody tr th {\n",
       "        vertical-align: top;\n",
       "    }\n",
       "\n",
       "    .dataframe thead th {\n",
       "        text-align: right;\n",
       "    }\n",
       "</style>\n",
       "<table border=\"1\" class=\"dataframe\">\n",
       "  <thead>\n",
       "    <tr style=\"text-align: right;\">\n",
       "      <th></th>\n",
       "      <th>child_mort</th>\n",
       "      <th>life_expec</th>\n",
       "      <th>income</th>\n",
       "      <th>gdpp</th>\n",
       "    </tr>\n",
       "  </thead>\n",
       "  <tbody>\n",
       "    <tr>\n",
       "      <th>count</th>\n",
       "      <td>21.000000</td>\n",
       "      <td>21.000000</td>\n",
       "      <td>21.000000</td>\n",
       "      <td>21.000000</td>\n",
       "    </tr>\n",
       "    <tr>\n",
       "      <th>mean</th>\n",
       "      <td>5.042857</td>\n",
       "      <td>80.457143</td>\n",
       "      <td>47571.428571</td>\n",
       "      <td>46085.714286</td>\n",
       "    </tr>\n",
       "    <tr>\n",
       "      <th>std</th>\n",
       "      <td>2.338284</td>\n",
       "      <td>1.720631</td>\n",
       "      <td>13249.797842</td>\n",
       "      <td>8897.038030</td>\n",
       "    </tr>\n",
       "    <tr>\n",
       "      <th>min</th>\n",
       "      <td>2.600000</td>\n",
       "      <td>76.500000</td>\n",
       "      <td>35800.000000</td>\n",
       "      <td>35000.000000</td>\n",
       "    </tr>\n",
       "    <tr>\n",
       "      <th>25%</th>\n",
       "      <td>4.000000</td>\n",
       "      <td>80.000000</td>\n",
       "      <td>39800.000000</td>\n",
       "      <td>40600.000000</td>\n",
       "    </tr>\n",
       "    <tr>\n",
       "      <th>50%</th>\n",
       "      <td>4.300000</td>\n",
       "      <td>80.500000</td>\n",
       "      <td>42900.000000</td>\n",
       "      <td>46200.000000</td>\n",
       "    </tr>\n",
       "    <tr>\n",
       "      <th>75%</th>\n",
       "      <td>5.200000</td>\n",
       "      <td>81.700000</td>\n",
       "      <td>49400.000000</td>\n",
       "      <td>48700.000000</td>\n",
       "    </tr>\n",
       "    <tr>\n",
       "      <th>max</th>\n",
       "      <td>10.800000</td>\n",
       "      <td>82.800000</td>\n",
       "      <td>80600.000000</td>\n",
       "      <td>74600.000000</td>\n",
       "    </tr>\n",
       "  </tbody>\n",
       "</table>\n",
       "</div>"
      ],
      "text/plain": [
       "       child_mort  life_expec        income          gdpp\n",
       "count   21.000000   21.000000     21.000000     21.000000\n",
       "mean     5.042857   80.457143  47571.428571  46085.714286\n",
       "std      2.338284    1.720631  13249.797842   8897.038030\n",
       "min      2.600000   76.500000  35800.000000  35000.000000\n",
       "25%      4.000000   80.000000  39800.000000  40600.000000\n",
       "50%      4.300000   80.500000  42900.000000  46200.000000\n",
       "75%      5.200000   81.700000  49400.000000  48700.000000\n",
       "max     10.800000   82.800000  80600.000000  74600.000000"
      ]
     },
     "execution_count": 30,
     "metadata": {},
     "output_type": "execute_result"
    }
   ],
   "source": [
    "X[y_kmeans==0].describe()"
   ]
  },
  {
   "cell_type": "code",
   "execution_count": 31,
   "id": "9ab8a369",
   "metadata": {},
   "outputs": [
    {
     "data": {
      "text/html": [
       "<div>\n",
       "<style scoped>\n",
       "    .dataframe tbody tr th:only-of-type {\n",
       "        vertical-align: middle;\n",
       "    }\n",
       "\n",
       "    .dataframe tbody tr th {\n",
       "        vertical-align: top;\n",
       "    }\n",
       "\n",
       "    .dataframe thead th {\n",
       "        text-align: right;\n",
       "    }\n",
       "</style>\n",
       "<table border=\"1\" class=\"dataframe\">\n",
       "  <thead>\n",
       "    <tr style=\"text-align: right;\">\n",
       "      <th></th>\n",
       "      <th>country</th>\n",
       "      <th>child_mort</th>\n",
       "      <th>exports</th>\n",
       "      <th>health</th>\n",
       "      <th>imports</th>\n",
       "      <th>income</th>\n",
       "      <th>inflation</th>\n",
       "      <th>life_expec</th>\n",
       "      <th>children_per_woman</th>\n",
       "      <th>gdpp</th>\n",
       "    </tr>\n",
       "  </thead>\n",
       "  <tbody>\n",
       "    <tr>\n",
       "      <th>7</th>\n",
       "      <td>Australia</td>\n",
       "      <td>4.8</td>\n",
       "      <td>19.8</td>\n",
       "      <td>8.73</td>\n",
       "      <td>20.9</td>\n",
       "      <td>41400</td>\n",
       "      <td>1.160</td>\n",
       "      <td>82.0</td>\n",
       "      <td>1.93</td>\n",
       "      <td>51900</td>\n",
       "    </tr>\n",
       "    <tr>\n",
       "      <th>8</th>\n",
       "      <td>Austria</td>\n",
       "      <td>4.3</td>\n",
       "      <td>51.3</td>\n",
       "      <td>11.00</td>\n",
       "      <td>47.8</td>\n",
       "      <td>43200</td>\n",
       "      <td>0.873</td>\n",
       "      <td>80.5</td>\n",
       "      <td>1.44</td>\n",
       "      <td>46900</td>\n",
       "    </tr>\n",
       "    <tr>\n",
       "      <th>15</th>\n",
       "      <td>Belgium</td>\n",
       "      <td>4.5</td>\n",
       "      <td>76.4</td>\n",
       "      <td>10.70</td>\n",
       "      <td>74.7</td>\n",
       "      <td>41100</td>\n",
       "      <td>1.880</td>\n",
       "      <td>80.0</td>\n",
       "      <td>1.86</td>\n",
       "      <td>44400</td>\n",
       "    </tr>\n",
       "    <tr>\n",
       "      <th>23</th>\n",
       "      <td>Brunei</td>\n",
       "      <td>10.5</td>\n",
       "      <td>67.4</td>\n",
       "      <td>2.84</td>\n",
       "      <td>28.0</td>\n",
       "      <td>80600</td>\n",
       "      <td>16.700</td>\n",
       "      <td>77.1</td>\n",
       "      <td>1.84</td>\n",
       "      <td>35300</td>\n",
       "    </tr>\n",
       "    <tr>\n",
       "      <th>29</th>\n",
       "      <td>Canada</td>\n",
       "      <td>5.6</td>\n",
       "      <td>29.1</td>\n",
       "      <td>11.30</td>\n",
       "      <td>31.0</td>\n",
       "      <td>40700</td>\n",
       "      <td>2.870</td>\n",
       "      <td>81.3</td>\n",
       "      <td>1.63</td>\n",
       "      <td>47400</td>\n",
       "    </tr>\n",
       "  </tbody>\n",
       "</table>\n",
       "</div>"
      ],
      "text/plain": [
       "      country  child_mort  exports  health  imports  income  inflation  \\\n",
       "7   Australia         4.8     19.8    8.73     20.9   41400      1.160   \n",
       "8     Austria         4.3     51.3   11.00     47.8   43200      0.873   \n",
       "15    Belgium         4.5     76.4   10.70     74.7   41100      1.880   \n",
       "23     Brunei        10.5     67.4    2.84     28.0   80600     16.700   \n",
       "29     Canada         5.6     29.1   11.30     31.0   40700      2.870   \n",
       "\n",
       "    life_expec  children_per_woman   gdpp  \n",
       "7         82.0                1.93  51900  \n",
       "8         80.5                1.44  46900  \n",
       "15        80.0                1.86  44400  \n",
       "23        77.1                1.84  35300  \n",
       "29        81.3                1.63  47400  "
      ]
     },
     "execution_count": 31,
     "metadata": {},
     "output_type": "execute_result"
    }
   ],
   "source": [
    "data_index = X[y_kmeans==0].index\n",
    "Cluster3 = df.loc[data_index]\n",
    "Cluster3.head()"
   ]
  },
  {
   "cell_type": "markdown",
   "id": "bd1d3d4b",
   "metadata": {},
   "source": [
    "### Fourth Cluster"
   ]
  },
  {
   "cell_type": "code",
   "execution_count": 32,
   "id": "b293ea3a",
   "metadata": {},
   "outputs": [
    {
     "data": {
      "text/html": [
       "<div>\n",
       "<style scoped>\n",
       "    .dataframe tbody tr th:only-of-type {\n",
       "        vertical-align: middle;\n",
       "    }\n",
       "\n",
       "    .dataframe tbody tr th {\n",
       "        vertical-align: top;\n",
       "    }\n",
       "\n",
       "    .dataframe thead th {\n",
       "        text-align: right;\n",
       "    }\n",
       "</style>\n",
       "<table border=\"1\" class=\"dataframe\">\n",
       "  <thead>\n",
       "    <tr style=\"text-align: right;\">\n",
       "      <th></th>\n",
       "      <th>child_mort</th>\n",
       "      <th>life_expec</th>\n",
       "      <th>income</th>\n",
       "      <th>gdpp</th>\n",
       "    </tr>\n",
       "  </thead>\n",
       "  <tbody>\n",
       "    <tr>\n",
       "      <th>count</th>\n",
       "      <td>3.00000</td>\n",
       "      <td>3.000000</td>\n",
       "      <td>3.000000</td>\n",
       "      <td>3.000000</td>\n",
       "    </tr>\n",
       "    <tr>\n",
       "      <th>mean</th>\n",
       "      <td>5.00000</td>\n",
       "      <td>80.600000</td>\n",
       "      <td>93000.000000</td>\n",
       "      <td>87700.000000</td>\n",
       "    </tr>\n",
       "    <tr>\n",
       "      <th>std</th>\n",
       "      <td>3.46987</td>\n",
       "      <td>0.964365</td>\n",
       "      <td>31370.208798</td>\n",
       "      <td>17350.216137</td>\n",
       "    </tr>\n",
       "    <tr>\n",
       "      <th>min</th>\n",
       "      <td>2.80000</td>\n",
       "      <td>79.500000</td>\n",
       "      <td>62300.000000</td>\n",
       "      <td>70300.000000</td>\n",
       "    </tr>\n",
       "    <tr>\n",
       "      <th>25%</th>\n",
       "      <td>3.00000</td>\n",
       "      <td>80.250000</td>\n",
       "      <td>77000.000000</td>\n",
       "      <td>79050.000000</td>\n",
       "    </tr>\n",
       "    <tr>\n",
       "      <th>50%</th>\n",
       "      <td>3.20000</td>\n",
       "      <td>81.000000</td>\n",
       "      <td>91700.000000</td>\n",
       "      <td>87800.000000</td>\n",
       "    </tr>\n",
       "    <tr>\n",
       "      <th>75%</th>\n",
       "      <td>6.10000</td>\n",
       "      <td>81.150000</td>\n",
       "      <td>108350.000000</td>\n",
       "      <td>96400.000000</td>\n",
       "    </tr>\n",
       "    <tr>\n",
       "      <th>max</th>\n",
       "      <td>9.00000</td>\n",
       "      <td>81.300000</td>\n",
       "      <td>125000.000000</td>\n",
       "      <td>105000.000000</td>\n",
       "    </tr>\n",
       "  </tbody>\n",
       "</table>\n",
       "</div>"
      ],
      "text/plain": [
       "       child_mort  life_expec         income           gdpp\n",
       "count     3.00000    3.000000       3.000000       3.000000\n",
       "mean      5.00000   80.600000   93000.000000   87700.000000\n",
       "std       3.46987    0.964365   31370.208798   17350.216137\n",
       "min       2.80000   79.500000   62300.000000   70300.000000\n",
       "25%       3.00000   80.250000   77000.000000   79050.000000\n",
       "50%       3.20000   81.000000   91700.000000   87800.000000\n",
       "75%       6.10000   81.150000  108350.000000   96400.000000\n",
       "max       9.00000   81.300000  125000.000000  105000.000000"
      ]
     },
     "execution_count": 32,
     "metadata": {},
     "output_type": "execute_result"
    }
   ],
   "source": [
    "X[y_kmeans==3].describe()"
   ]
  },
  {
   "cell_type": "code",
   "execution_count": 33,
   "id": "dfdcfed0",
   "metadata": {},
   "outputs": [
    {
     "data": {
      "text/html": [
       "<div>\n",
       "<style scoped>\n",
       "    .dataframe tbody tr th:only-of-type {\n",
       "        vertical-align: middle;\n",
       "    }\n",
       "\n",
       "    .dataframe tbody tr th {\n",
       "        vertical-align: top;\n",
       "    }\n",
       "\n",
       "    .dataframe thead th {\n",
       "        text-align: right;\n",
       "    }\n",
       "</style>\n",
       "<table border=\"1\" class=\"dataframe\">\n",
       "  <thead>\n",
       "    <tr style=\"text-align: right;\">\n",
       "      <th></th>\n",
       "      <th>country</th>\n",
       "      <th>child_mort</th>\n",
       "      <th>exports</th>\n",
       "      <th>health</th>\n",
       "      <th>imports</th>\n",
       "      <th>income</th>\n",
       "      <th>inflation</th>\n",
       "      <th>life_expec</th>\n",
       "      <th>children_per_woman</th>\n",
       "      <th>gdpp</th>\n",
       "    </tr>\n",
       "  </thead>\n",
       "  <tbody>\n",
       "    <tr>\n",
       "      <th>91</th>\n",
       "      <td>Luxembourg</td>\n",
       "      <td>2.8</td>\n",
       "      <td>175.0</td>\n",
       "      <td>7.77</td>\n",
       "      <td>142.0</td>\n",
       "      <td>91700</td>\n",
       "      <td>3.62</td>\n",
       "      <td>81.3</td>\n",
       "      <td>1.63</td>\n",
       "      <td>105000</td>\n",
       "    </tr>\n",
       "    <tr>\n",
       "      <th>114</th>\n",
       "      <td>Norway</td>\n",
       "      <td>3.2</td>\n",
       "      <td>39.7</td>\n",
       "      <td>9.48</td>\n",
       "      <td>28.5</td>\n",
       "      <td>62300</td>\n",
       "      <td>5.95</td>\n",
       "      <td>81.0</td>\n",
       "      <td>1.95</td>\n",
       "      <td>87800</td>\n",
       "    </tr>\n",
       "    <tr>\n",
       "      <th>123</th>\n",
       "      <td>Qatar</td>\n",
       "      <td>9.0</td>\n",
       "      <td>62.3</td>\n",
       "      <td>1.81</td>\n",
       "      <td>23.8</td>\n",
       "      <td>125000</td>\n",
       "      <td>6.98</td>\n",
       "      <td>79.5</td>\n",
       "      <td>2.07</td>\n",
       "      <td>70300</td>\n",
       "    </tr>\n",
       "  </tbody>\n",
       "</table>\n",
       "</div>"
      ],
      "text/plain": [
       "        country  child_mort  exports  health  imports  income  inflation  \\\n",
       "91   Luxembourg         2.8    175.0    7.77    142.0   91700       3.62   \n",
       "114      Norway         3.2     39.7    9.48     28.5   62300       5.95   \n",
       "123       Qatar         9.0     62.3    1.81     23.8  125000       6.98   \n",
       "\n",
       "     life_expec  children_per_woman    gdpp  \n",
       "91         81.3                1.63  105000  \n",
       "114        81.0                1.95   87800  \n",
       "123        79.5                2.07   70300  "
      ]
     },
     "execution_count": 33,
     "metadata": {},
     "output_type": "execute_result"
    }
   ],
   "source": [
    "data_index = X[y_kmeans==3].index\n",
    "Cluster4 = df.loc[data_index]\n",
    "Cluster4.head()"
   ]
  },
  {
   "cell_type": "markdown",
   "id": "9c6a903c",
   "metadata": {},
   "source": [
    "## Visualization for the most two clusters deserving aid"
   ]
  },
  {
   "cell_type": "code",
   "execution_count": 34,
   "id": "bb718622",
   "metadata": {},
   "outputs": [
    {
     "data": {
      "image/png": "[encoded data removed]",
      "text/plain": [
       "<Figure size 1600x1200 with 4 Axes>"
      ]
     },
     "metadata": {},
     "output_type": "display_data"
    }
   ],
   "source": [
    "fig = plt.figure(figsize=(16,12))\n",
    "plt.subplot(2,2,1)\n",
    "plt.title(\"Cluster 1 - The most countries deserve aid - Income\")\n",
    "sns.histplot(Cluster1[\"income\"])\n",
    "plt.subplot(2,2,2)\n",
    "plt.title(\"Cluster 1 - The most countries deserve aid - GDPP\")\n",
    "sns.histplot(Cluster1[\"gdpp\"])\n",
    "plt.subplot(2,2,3)\n",
    "plt.title(\"Cluster 2 - The second most countries deserve aid - Income\")\n",
    "sns.histplot(Cluster2[\"income\"])\n",
    "plt.subplot(2,2,4)\n",
    "plt.title(\"Cluster 2 - The second most countries deserve aid - GDPP\")\n",
    "sns.histplot(Cluster2[\"gdpp\"])\n",
    "plt.tight_layout()\n",
    "plt.show()"
   ]
  },
  {
   "cell_type": "markdown",
   "id": "805f8b76",
   "metadata": {},
   "source": [
    "## Inferences"
   ]
  },
  {
   "cell_type": "markdown",
   "id": "da22e7bc",
   "metadata": {},
   "source": [
    "1. Cluster 1 includes the countries that deserve the aid, the most.\n",
    "2. Cluster 1, the cluster having the most poor countries, include 108 different countries.\n",
    "3. Cluster 1 has very poor countries (The poorest among the poorest) that has the annual income between 1000 and 2000, and has other poor countries that the annual income is > 6000, so we want to make the priority for countries having 1000-2000"
   ]
  },
  {
   "cell_type": "markdown",
   "id": "450e08f9",
   "metadata": {},
   "source": [
    "### Sort countries according to income"
   ]
  },
  {
   "cell_type": "code",
   "execution_count": 36,
   "id": "d4b06902",
   "metadata": {},
   "outputs": [],
   "source": [
    "Cluster1_Sorted = Cluster1.sort_values('income')"
   ]
  },
  {
   "cell_type": "code",
   "execution_count": 44,
   "id": "01b2dee8",
   "metadata": {},
   "outputs": [
    {
     "data": {
      "image/png": "[encoded data removed]",
      "text/plain": [
       "<Figure size 1500x1000 with 1 Axes>"
      ]
     },
     "metadata": {},
     "output_type": "display_data"
    }
   ],
   "source": [
    "fig = plt.figure(figsize=(15,10))\n",
    "sns.barplot(Cluster1_Sorted[\"country\"].head(10), Cluster1_Sorted[\"income\"].head(10))\n",
    "plt.tight_layout()"
   ]
  },
  {
   "cell_type": "code",
   "execution_count": 45,
   "id": "c3cfcbbf",
   "metadata": {
    "scrolled": false
   },
   "outputs": [
    {
     "data": {
      "image/png": "[encoded data removed]",
      "text/plain": [
       "<Figure size 1500x1000 with 1 Axes>"
      ]
     },
     "metadata": {},
     "output_type": "display_data"
    }
   ],
   "source": [
    "fig = plt.figure(figsize=(15,10))\n",
    "sns.barplot(Cluster1_Sorted[\"country\"].head(10), Cluster1_Sorted[\"gdpp\"].head(10))\n",
    "plt.tight_layout()"
   ]
  },
  {
   "cell_type": "markdown",
   "id": "c35de0ed",
   "metadata": {},
   "source": [
    "# Final Results"
   ]
  },
  {
   "cell_type": "markdown",
   "id": "52d96a6f",
   "metadata": {},
   "source": [
    "***Top 10 countries deserve the financial aid :***"
   ]
  },
  {
   "cell_type": "code",
   "execution_count": 50,
   "id": "7ba0a27c",
   "metadata": {},
   "outputs": [
    {
     "data": {
      "text/html": [
       "<div>\n",
       "<style scoped>\n",
       "    .dataframe tbody tr th:only-of-type {\n",
       "        vertical-align: middle;\n",
       "    }\n",
       "\n",
       "    .dataframe tbody tr th {\n",
       "        vertical-align: top;\n",
       "    }\n",
       "\n",
       "    .dataframe thead th {\n",
       "        text-align: right;\n",
       "    }\n",
       "</style>\n",
       "<table border=\"1\" class=\"dataframe\">\n",
       "  <thead>\n",
       "    <tr style=\"text-align: right;\">\n",
       "      <th></th>\n",
       "      <th>country</th>\n",
       "      <th>child_mort</th>\n",
       "      <th>exports</th>\n",
       "      <th>health</th>\n",
       "      <th>imports</th>\n",
       "      <th>income</th>\n",
       "      <th>inflation</th>\n",
       "      <th>life_expec</th>\n",
       "      <th>children_per_woman</th>\n",
       "      <th>gdpp</th>\n",
       "    </tr>\n",
       "  </thead>\n",
       "  <tbody>\n",
       "    <tr>\n",
       "      <th>0</th>\n",
       "      <td>Congo, Dem. Rep.</td>\n",
       "      <td>116.0</td>\n",
       "      <td>41.10</td>\n",
       "      <td>7.91</td>\n",
       "      <td>49.6</td>\n",
       "      <td>609</td>\n",
       "      <td>20.80</td>\n",
       "      <td>57.5</td>\n",
       "      <td>6.54</td>\n",
       "      <td>334</td>\n",
       "    </tr>\n",
       "    <tr>\n",
       "      <th>1</th>\n",
       "      <td>Liberia</td>\n",
       "      <td>89.3</td>\n",
       "      <td>19.10</td>\n",
       "      <td>11.80</td>\n",
       "      <td>92.6</td>\n",
       "      <td>700</td>\n",
       "      <td>5.47</td>\n",
       "      <td>60.8</td>\n",
       "      <td>5.02</td>\n",
       "      <td>327</td>\n",
       "    </tr>\n",
       "    <tr>\n",
       "      <th>2</th>\n",
       "      <td>Burundi</td>\n",
       "      <td>93.6</td>\n",
       "      <td>8.92</td>\n",
       "      <td>11.60</td>\n",
       "      <td>39.2</td>\n",
       "      <td>764</td>\n",
       "      <td>12.30</td>\n",
       "      <td>57.7</td>\n",
       "      <td>6.26</td>\n",
       "      <td>231</td>\n",
       "    </tr>\n",
       "    <tr>\n",
       "      <th>3</th>\n",
       "      <td>Niger</td>\n",
       "      <td>123.0</td>\n",
       "      <td>22.20</td>\n",
       "      <td>5.16</td>\n",
       "      <td>49.1</td>\n",
       "      <td>814</td>\n",
       "      <td>2.55</td>\n",
       "      <td>58.8</td>\n",
       "      <td>7.49</td>\n",
       "      <td>348</td>\n",
       "    </tr>\n",
       "    <tr>\n",
       "      <th>4</th>\n",
       "      <td>Central African Republic</td>\n",
       "      <td>149.0</td>\n",
       "      <td>11.80</td>\n",
       "      <td>3.98</td>\n",
       "      <td>26.5</td>\n",
       "      <td>888</td>\n",
       "      <td>2.01</td>\n",
       "      <td>47.5</td>\n",
       "      <td>5.21</td>\n",
       "      <td>446</td>\n",
       "    </tr>\n",
       "    <tr>\n",
       "      <th>5</th>\n",
       "      <td>Mozambique</td>\n",
       "      <td>101.0</td>\n",
       "      <td>31.50</td>\n",
       "      <td>5.21</td>\n",
       "      <td>46.2</td>\n",
       "      <td>918</td>\n",
       "      <td>7.64</td>\n",
       "      <td>54.5</td>\n",
       "      <td>5.56</td>\n",
       "      <td>419</td>\n",
       "    </tr>\n",
       "    <tr>\n",
       "      <th>6</th>\n",
       "      <td>Malawi</td>\n",
       "      <td>90.5</td>\n",
       "      <td>22.80</td>\n",
       "      <td>6.59</td>\n",
       "      <td>34.9</td>\n",
       "      <td>1030</td>\n",
       "      <td>12.10</td>\n",
       "      <td>53.1</td>\n",
       "      <td>5.31</td>\n",
       "      <td>459</td>\n",
       "    </tr>\n",
       "    <tr>\n",
       "      <th>7</th>\n",
       "      <td>Guinea</td>\n",
       "      <td>109.0</td>\n",
       "      <td>30.30</td>\n",
       "      <td>4.93</td>\n",
       "      <td>43.2</td>\n",
       "      <td>1190</td>\n",
       "      <td>16.10</td>\n",
       "      <td>58.0</td>\n",
       "      <td>5.34</td>\n",
       "      <td>648</td>\n",
       "    </tr>\n",
       "    <tr>\n",
       "      <th>8</th>\n",
       "      <td>Togo</td>\n",
       "      <td>90.3</td>\n",
       "      <td>40.20</td>\n",
       "      <td>7.65</td>\n",
       "      <td>57.3</td>\n",
       "      <td>1210</td>\n",
       "      <td>1.18</td>\n",
       "      <td>58.7</td>\n",
       "      <td>4.87</td>\n",
       "      <td>488</td>\n",
       "    </tr>\n",
       "    <tr>\n",
       "      <th>9</th>\n",
       "      <td>Sierra Leone</td>\n",
       "      <td>160.0</td>\n",
       "      <td>16.80</td>\n",
       "      <td>13.10</td>\n",
       "      <td>34.5</td>\n",
       "      <td>1220</td>\n",
       "      <td>17.20</td>\n",
       "      <td>55.0</td>\n",
       "      <td>5.20</td>\n",
       "      <td>399</td>\n",
       "    </tr>\n",
       "  </tbody>\n",
       "</table>\n",
       "</div>"
      ],
      "text/plain": [
       "                    country  child_mort  exports  health  imports  income  \\\n",
       "0          Congo, Dem. Rep.       116.0    41.10    7.91     49.6     609   \n",
       "1                   Liberia        89.3    19.10   11.80     92.6     700   \n",
       "2                   Burundi        93.6     8.92   11.60     39.2     764   \n",
       "3                     Niger       123.0    22.20    5.16     49.1     814   \n",
       "4  Central African Republic       149.0    11.80    3.98     26.5     888   \n",
       "5                Mozambique       101.0    31.50    5.21     46.2     918   \n",
       "6                    Malawi        90.5    22.80    6.59     34.9    1030   \n",
       "7                    Guinea       109.0    30.30    4.93     43.2    1190   \n",
       "8                      Togo        90.3    40.20    7.65     57.3    1210   \n",
       "9              Sierra Leone       160.0    16.80   13.10     34.5    1220   \n",
       "\n",
       "   inflation  life_expec  children_per_woman  gdpp  \n",
       "0      20.80        57.5                6.54   334  \n",
       "1       5.47        60.8                5.02   327  \n",
       "2      12.30        57.7                6.26   231  \n",
       "3       2.55        58.8                7.49   348  \n",
       "4       2.01        47.5                5.21   446  \n",
       "5       7.64        54.5                5.56   419  \n",
       "6      12.10        53.1                5.31   459  \n",
       "7      16.10        58.0                5.34   648  \n",
       "8       1.18        58.7                4.87   488  \n",
       "9      17.20        55.0                5.20   399  "
      ]
     },
     "execution_count": 50,
     "metadata": {},
     "output_type": "execute_result"
    }
   ],
   "source": [
    "Cluster1_Sorted.reset_index(drop=True).head(10)"
   ]
  },
  {
   "cell_type": "markdown",
   "id": "e4516a6e",
   "metadata": {},
   "source": [
    "**We can notice that these 10 countries are really suffering from high death rates in children, bad health conditions, low annual income and life expectations during birth in range [47%-60%] only !! Also, the number of children per woman is relatively high wich indicates bad life quality, and less opportunities in education for women in these countries. Also, we can notice very very low gdpp (rarely exceeds 500) which indicates bad economical conditions.**"
   ]
  }
 ],
 "metadata": {
  "kernelspec": {
   "display_name": "Python 3 (ipykernel)",
   "language": "python",
   "name": "python3"
  },
  "language_info": {
   "codemirror_mode": {
    "name": "ipython",
    "version": 3
   },
   "file_extension": ".py",
   "mimetype": "text/x-python",
   "name": "python",
   "nbconvert_exporter": "python",
   "pygments_lexer": "ipython3",
   "version": "3.9.13"
  }
 },
 "nbformat": 4,
 "nbformat_minor": 5
}
